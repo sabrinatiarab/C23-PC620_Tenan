{
  "cells": [
    {
      "cell_type": "markdown",
      "metadata": {
        "id": "pl_OzIlMljtM"
      },
      "source": [
        "# Sistem Rekomendasi Destinasi Wisata dengan Collaborative Filtering\n",
        "<hr>\n",
        "\n",
        "#### Sumber data: https://www.kaggle.com/aprabowo/indonesia-tourism-destination"
      ]
    },
    {
      "cell_type": "markdown",
      "metadata": {
        "id": "BfabEt9PlW3u"
      },
      "source": [
        "## 1. Mengimpor Library Python yang Dibutuhkan"
      ]
    },
    {
      "cell_type": "code",
      "execution_count": null,
      "metadata": {
        "execution": {
          "iopub.execute_input": "2021-10-27T02:47:50.289722Z",
          "iopub.status.busy": "2021-10-27T02:47:50.289232Z",
          "iopub.status.idle": "2021-10-27T02:47:57.225664Z",
          "shell.execute_reply": "2021-10-27T02:47:57.224748Z",
          "shell.execute_reply.started": "2021-10-27T02:47:50.289616Z"
        },
        "id": "nIgpP-3ihkU0",
        "trusted": true
      },
      "outputs": [],
      "source": [
        "# Untuk pengolahan data\n",
        "import pandas as pd\n",
        "import numpy as np\n",
        "from zipfile import ZipFile\n",
        "from pathlib import Path\n",
        "\n",
        "# Untuk visualisasi data\n",
        "import seaborn as sns\n",
        "import matplotlib.pyplot as plt\n",
        "\n",
        "%matplotlib inline\n",
        "sns.set_palette('Set1')\n",
        "sns.set()\n",
        "\n",
        "# Untuk pemodelan\n",
        "import tensorflow as tf\n",
        "from tensorflow import keras\n",
        "from tensorflow.keras import layers\n",
        "\n",
        "# Untuk menghilangkan warnings saat plotting seaborn\n",
        "import warnings\n",
        "warnings.filterwarnings('ignore')\n",
        "\n",
        "# Untuk mengupload file\n",
        "import os"
      ]
    },
    {
      "cell_type": "markdown",
      "metadata": {
        "id": "YuAzSI5xyBOJ"
      },
      "source": [
        "## 2. Menyiapkan Dataset yang digunakan"
      ]
    },
    {
      "cell_type": "code",
      "execution_count": null,
      "metadata": {
        "execution": {
          "iopub.execute_input": "2021-10-27T02:47:57.228062Z",
          "iopub.status.busy": "2021-10-27T02:47:57.227763Z",
          "iopub.status.idle": "2021-10-27T02:47:57.241949Z",
          "shell.execute_reply": "2021-10-27T02:47:57.241285Z",
          "shell.execute_reply.started": "2021-10-27T02:47:57.228019Z"
        },
        "id": "u58NPqZhhn-l",
        "trusted": true
      },
      "outputs": [],
      "source": [
        "# Upload semua dataset yang dipakai\n",
        "import pandas as pd\n",
        "rating = pd.read_csv('tourism_rating.csv')\n",
        "place = pd.read_csv('tourism_with_id.csv')\n",
        "user = pd.read_csv('user.csv')"
      ]
    },
    {
      "cell_type": "markdown",
      "metadata": {
        "id": "Ls7Ze-uWnlLM"
      },
      "source": [
        "##### Keterangan:\n",
        "* tourism_with_id.csv - mengandung informasi tempak wisata di 5 kota besar di Indonesia\n",
        "* user.csv - mengandung informasi pengguna untuk membuat rekomendasi fitur berdasar pengguna\n",
        "* tourism_rating.csv - mengandung informasi pengguna, tempat wisata, dan rating untuk membuat sistem rekomendasi berdasar rating\n"
      ]
    },
    {
      "cell_type": "markdown",
      "metadata": {
        "id": "rQvGwWhCx3SZ"
      },
      "source": [
        "## 3. Data Understanding"
      ]
    },
    {
      "cell_type": "markdown",
      "metadata": {
        "id": "VXlIb7w1yZkc"
      },
      "source": [
        "### 3.1 Menyiapkan Data"
      ]
    },
    {
      "cell_type": "code",
      "source": [
        "duplicate_rows_df = df[df.duplicated()]\n",
        "print(\"number of duplicates : \", duplicate_rows_df)"
      ],
      "metadata": {
        "id": "XiWx7S-EQMev"
      },
      "execution_count": null,
      "outputs": []
    },
    {
      "cell_type": "markdown",
      "metadata": {
        "id": "IhgAOgsTyeaX"
      },
      "source": [
        "### 3.2 Eksplorasi Fitur-fitur pada Data"
      ]
    },
    {
      "cell_type": "markdown",
      "metadata": {
        "id": "Tc6EM20Iywo3"
      },
      "source": [
        "#### 3.2.1. Data place"
      ]
    },
    {
      "cell_type": "code",
      "execution_count": null,
      "metadata": {
        "execution": {
          "iopub.execute_input": "2021-10-27T02:47:57.303450Z",
          "iopub.status.busy": "2021-10-27T02:47:57.302999Z",
          "iopub.status.idle": "2021-10-27T02:47:57.326257Z",
          "shell.execute_reply": "2021-10-27T02:47:57.325692Z",
          "shell.execute_reply.started": "2021-10-27T02:47:57.303417Z"
        },
        "id": "HnXNiyxt0hb3",
        "outputId": "1c9d9a1a-c287-4e41-c77b-1eaaaf0f5fc7",
        "trusted": true,
        "colab": {
          "base_uri": "https://localhost:8080/",
          "height": 527
        }
      },
      "outputs": [
        {
          "output_type": "execute_result",
          "data": {
            "text/plain": [
              "   Place_Id                         Place_Name  \\\n",
              "0         1                   Monumen Nasional   \n",
              "1         2                           Kota Tua   \n",
              "2         3                      Dunia Fantasi   \n",
              "3         4  Taman Mini Indonesia Indah (TMII)   \n",
              "4         5           Atlantis Water Adventure   \n",
              "\n",
              "                                         Description       Category     City  \\\n",
              "0  Monumen Nasional atau yang populer disingkat d...         Budaya  Jakarta   \n",
              "1  Kota tua di Jakarta, yang juga bernama Kota Tu...         Budaya  Jakarta   \n",
              "2  Dunia Fantasi atau disebut juga Dufan adalah t...  Taman Hiburan  Jakarta   \n",
              "3  Taman Mini Indonesia Indah merupakan suatu kaw...  Taman Hiburan  Jakarta   \n",
              "4  Atlantis Water Adventure atau dikenal dengan A...  Taman Hiburan  Jakarta   \n",
              "\n",
              "    Price  Rating  Time_Minutes  \\\n",
              "0   20000     4.6          15.0   \n",
              "1       0     4.6          90.0   \n",
              "2  270000     4.6         360.0   \n",
              "3   10000     4.5           NaN   \n",
              "4   94000     4.5          60.0   \n",
              "\n",
              "                                        Coordinate       Lat        Long  \\\n",
              "0          {'lat': -6.1753924, 'lng': 106.8271528} -6.175392  106.827153   \n",
              "1  {'lat': -6.137644799999999, 'lng': 106.8171245} -6.137645  106.817125   \n",
              "2  {'lat': -6.125312399999999, 'lng': 106.8335377} -6.125312  106.833538   \n",
              "3  {'lat': -6.302445899999999, 'lng': 106.8951559} -6.302446  106.895156   \n",
              "4             {'lat': -6.12419, 'lng': 106.839134} -6.124190  106.839134   \n",
              "\n",
              "   Unnamed: 11  Unnamed: 12  \n",
              "0          NaN            1  \n",
              "1          NaN            2  \n",
              "2          NaN            3  \n",
              "3          NaN            4  \n",
              "4          NaN            5  "
            ],
            "text/html": [
              "\n",
              "  <div id=\"df-7cd88788-04e3-4369-aa33-3ce392a7cb09\">\n",
              "    <div class=\"colab-df-container\">\n",
              "      <div>\n",
              "<style scoped>\n",
              "    .dataframe tbody tr th:only-of-type {\n",
              "        vertical-align: middle;\n",
              "    }\n",
              "\n",
              "    .dataframe tbody tr th {\n",
              "        vertical-align: top;\n",
              "    }\n",
              "\n",
              "    .dataframe thead th {\n",
              "        text-align: right;\n",
              "    }\n",
              "</style>\n",
              "<table border=\"1\" class=\"dataframe\">\n",
              "  <thead>\n",
              "    <tr style=\"text-align: right;\">\n",
              "      <th></th>\n",
              "      <th>Place_Id</th>\n",
              "      <th>Place_Name</th>\n",
              "      <th>Description</th>\n",
              "      <th>Category</th>\n",
              "      <th>City</th>\n",
              "      <th>Price</th>\n",
              "      <th>Rating</th>\n",
              "      <th>Time_Minutes</th>\n",
              "      <th>Coordinate</th>\n",
              "      <th>Lat</th>\n",
              "      <th>Long</th>\n",
              "      <th>Unnamed: 11</th>\n",
              "      <th>Unnamed: 12</th>\n",
              "    </tr>\n",
              "  </thead>\n",
              "  <tbody>\n",
              "    <tr>\n",
              "      <th>0</th>\n",
              "      <td>1</td>\n",
              "      <td>Monumen Nasional</td>\n",
              "      <td>Monumen Nasional atau yang populer disingkat d...</td>\n",
              "      <td>Budaya</td>\n",
              "      <td>Jakarta</td>\n",
              "      <td>20000</td>\n",
              "      <td>4.6</td>\n",
              "      <td>15.0</td>\n",
              "      <td>{'lat': -6.1753924, 'lng': 106.8271528}</td>\n",
              "      <td>-6.175392</td>\n",
              "      <td>106.827153</td>\n",
              "      <td>NaN</td>\n",
              "      <td>1</td>\n",
              "    </tr>\n",
              "    <tr>\n",
              "      <th>1</th>\n",
              "      <td>2</td>\n",
              "      <td>Kota Tua</td>\n",
              "      <td>Kota tua di Jakarta, yang juga bernama Kota Tu...</td>\n",
              "      <td>Budaya</td>\n",
              "      <td>Jakarta</td>\n",
              "      <td>0</td>\n",
              "      <td>4.6</td>\n",
              "      <td>90.0</td>\n",
              "      <td>{'lat': -6.137644799999999, 'lng': 106.8171245}</td>\n",
              "      <td>-6.137645</td>\n",
              "      <td>106.817125</td>\n",
              "      <td>NaN</td>\n",
              "      <td>2</td>\n",
              "    </tr>\n",
              "    <tr>\n",
              "      <th>2</th>\n",
              "      <td>3</td>\n",
              "      <td>Dunia Fantasi</td>\n",
              "      <td>Dunia Fantasi atau disebut juga Dufan adalah t...</td>\n",
              "      <td>Taman Hiburan</td>\n",
              "      <td>Jakarta</td>\n",
              "      <td>270000</td>\n",
              "      <td>4.6</td>\n",
              "      <td>360.0</td>\n",
              "      <td>{'lat': -6.125312399999999, 'lng': 106.8335377}</td>\n",
              "      <td>-6.125312</td>\n",
              "      <td>106.833538</td>\n",
              "      <td>NaN</td>\n",
              "      <td>3</td>\n",
              "    </tr>\n",
              "    <tr>\n",
              "      <th>3</th>\n",
              "      <td>4</td>\n",
              "      <td>Taman Mini Indonesia Indah (TMII)</td>\n",
              "      <td>Taman Mini Indonesia Indah merupakan suatu kaw...</td>\n",
              "      <td>Taman Hiburan</td>\n",
              "      <td>Jakarta</td>\n",
              "      <td>10000</td>\n",
              "      <td>4.5</td>\n",
              "      <td>NaN</td>\n",
              "      <td>{'lat': -6.302445899999999, 'lng': 106.8951559}</td>\n",
              "      <td>-6.302446</td>\n",
              "      <td>106.895156</td>\n",
              "      <td>NaN</td>\n",
              "      <td>4</td>\n",
              "    </tr>\n",
              "    <tr>\n",
              "      <th>4</th>\n",
              "      <td>5</td>\n",
              "      <td>Atlantis Water Adventure</td>\n",
              "      <td>Atlantis Water Adventure atau dikenal dengan A...</td>\n",
              "      <td>Taman Hiburan</td>\n",
              "      <td>Jakarta</td>\n",
              "      <td>94000</td>\n",
              "      <td>4.5</td>\n",
              "      <td>60.0</td>\n",
              "      <td>{'lat': -6.12419, 'lng': 106.839134}</td>\n",
              "      <td>-6.124190</td>\n",
              "      <td>106.839134</td>\n",
              "      <td>NaN</td>\n",
              "      <td>5</td>\n",
              "    </tr>\n",
              "  </tbody>\n",
              "</table>\n",
              "</div>\n",
              "      <button class=\"colab-df-convert\" onclick=\"convertToInteractive('df-7cd88788-04e3-4369-aa33-3ce392a7cb09')\"\n",
              "              title=\"Convert this dataframe to an interactive table.\"\n",
              "              style=\"display:none;\">\n",
              "        \n",
              "  <svg xmlns=\"http://www.w3.org/2000/svg\" height=\"24px\"viewBox=\"0 0 24 24\"\n",
              "       width=\"24px\">\n",
              "    <path d=\"M0 0h24v24H0V0z\" fill=\"none\"/>\n",
              "    <path d=\"M18.56 5.44l.94 2.06.94-2.06 2.06-.94-2.06-.94-.94-2.06-.94 2.06-2.06.94zm-11 1L8.5 8.5l.94-2.06 2.06-.94-2.06-.94L8.5 2.5l-.94 2.06-2.06.94zm10 10l.94 2.06.94-2.06 2.06-.94-2.06-.94-.94-2.06-.94 2.06-2.06.94z\"/><path d=\"M17.41 7.96l-1.37-1.37c-.4-.4-.92-.59-1.43-.59-.52 0-1.04.2-1.43.59L10.3 9.45l-7.72 7.72c-.78.78-.78 2.05 0 2.83L4 21.41c.39.39.9.59 1.41.59.51 0 1.02-.2 1.41-.59l7.78-7.78 2.81-2.81c.8-.78.8-2.07 0-2.86zM5.41 20L4 18.59l7.72-7.72 1.47 1.35L5.41 20z\"/>\n",
              "  </svg>\n",
              "      </button>\n",
              "      \n",
              "  <style>\n",
              "    .colab-df-container {\n",
              "      display:flex;\n",
              "      flex-wrap:wrap;\n",
              "      gap: 12px;\n",
              "    }\n",
              "\n",
              "    .colab-df-convert {\n",
              "      background-color: #E8F0FE;\n",
              "      border: none;\n",
              "      border-radius: 50%;\n",
              "      cursor: pointer;\n",
              "      display: none;\n",
              "      fill: #1967D2;\n",
              "      height: 32px;\n",
              "      padding: 0 0 0 0;\n",
              "      width: 32px;\n",
              "    }\n",
              "\n",
              "    .colab-df-convert:hover {\n",
              "      background-color: #E2EBFA;\n",
              "      box-shadow: 0px 1px 2px rgba(60, 64, 67, 0.3), 0px 1px 3px 1px rgba(60, 64, 67, 0.15);\n",
              "      fill: #174EA6;\n",
              "    }\n",
              "\n",
              "    [theme=dark] .colab-df-convert {\n",
              "      background-color: #3B4455;\n",
              "      fill: #D2E3FC;\n",
              "    }\n",
              "\n",
              "    [theme=dark] .colab-df-convert:hover {\n",
              "      background-color: #434B5C;\n",
              "      box-shadow: 0px 1px 3px 1px rgba(0, 0, 0, 0.15);\n",
              "      filter: drop-shadow(0px 1px 2px rgba(0, 0, 0, 0.3));\n",
              "      fill: #FFFFFF;\n",
              "    }\n",
              "  </style>\n",
              "\n",
              "      <script>\n",
              "        const buttonEl =\n",
              "          document.querySelector('#df-7cd88788-04e3-4369-aa33-3ce392a7cb09 button.colab-df-convert');\n",
              "        buttonEl.style.display =\n",
              "          google.colab.kernel.accessAllowed ? 'block' : 'none';\n",
              "\n",
              "        async function convertToInteractive(key) {\n",
              "          const element = document.querySelector('#df-7cd88788-04e3-4369-aa33-3ce392a7cb09');\n",
              "          const dataTable =\n",
              "            await google.colab.kernel.invokeFunction('convertToInteractive',\n",
              "                                                     [key], {});\n",
              "          if (!dataTable) return;\n",
              "\n",
              "          const docLinkHtml = 'Like what you see? Visit the ' +\n",
              "            '<a target=\"_blank\" href=https://colab.research.google.com/notebooks/data_table.ipynb>data table notebook</a>'\n",
              "            + ' to learn more about interactive tables.';\n",
              "          element.innerHTML = '';\n",
              "          dataTable['output_type'] = 'display_data';\n",
              "          await google.colab.output.renderOutput(dataTable, element);\n",
              "          const docLink = document.createElement('div');\n",
              "          docLink.innerHTML = docLinkHtml;\n",
              "          element.appendChild(docLink);\n",
              "        }\n",
              "      </script>\n",
              "    </div>\n",
              "  </div>\n",
              "  "
            ]
          },
          "metadata": {},
          "execution_count": 63
        }
      ],
      "source": [
        "# Melihat gambaran data place\n",
        "place.head()"
      ]
    },
    {
      "cell_type": "code",
      "execution_count": null,
      "metadata": {
        "execution": {
          "iopub.execute_input": "2021-10-27T02:47:57.327674Z",
          "iopub.status.busy": "2021-10-27T02:47:57.327309Z",
          "iopub.status.idle": "2021-10-27T02:47:57.348001Z",
          "shell.execute_reply": "2021-10-27T02:47:57.347307Z",
          "shell.execute_reply.started": "2021-10-27T02:47:57.327644Z"
        },
        "id": "eFZErucJzMKU",
        "outputId": "dad1271e-df3b-4324-c50f-6641d7fac02b",
        "trusted": true,
        "colab": {
          "base_uri": "https://localhost:8080/",
          "height": 371
        }
      },
      "outputs": [
        {
          "output_type": "execute_result",
          "data": {
            "text/plain": [
              "   Place_Id                         Place_Name  \\\n",
              "0         1                   Monumen Nasional   \n",
              "1         2                           Kota Tua   \n",
              "2         3                      Dunia Fantasi   \n",
              "3         4  Taman Mini Indonesia Indah (TMII)   \n",
              "4         5           Atlantis Water Adventure   \n",
              "\n",
              "                                         Description       Category     City  \\\n",
              "0  Monumen Nasional atau yang populer disingkat d...         Budaya  Jakarta   \n",
              "1  Kota tua di Jakarta, yang juga bernama Kota Tu...         Budaya  Jakarta   \n",
              "2  Dunia Fantasi atau disebut juga Dufan adalah t...  Taman Hiburan  Jakarta   \n",
              "3  Taman Mini Indonesia Indah merupakan suatu kaw...  Taman Hiburan  Jakarta   \n",
              "4  Atlantis Water Adventure atau dikenal dengan A...  Taman Hiburan  Jakarta   \n",
              "\n",
              "    Price  Rating  Time_Minutes  \\\n",
              "0   20000     4.6          15.0   \n",
              "1       0     4.6          90.0   \n",
              "2  270000     4.6         360.0   \n",
              "3   10000     4.5           NaN   \n",
              "4   94000     4.5          60.0   \n",
              "\n",
              "                                        Coordinate       Lat        Long  \n",
              "0          {'lat': -6.1753924, 'lng': 106.8271528} -6.175392  106.827153  \n",
              "1  {'lat': -6.137644799999999, 'lng': 106.8171245} -6.137645  106.817125  \n",
              "2  {'lat': -6.125312399999999, 'lng': 106.8335377} -6.125312  106.833538  \n",
              "3  {'lat': -6.302445899999999, 'lng': 106.8951559} -6.302446  106.895156  \n",
              "4             {'lat': -6.12419, 'lng': 106.839134} -6.124190  106.839134  "
            ],
            "text/html": [
              "\n",
              "  <div id=\"df-4c0e5cce-49a2-4edd-a87f-c1a6c4de6448\">\n",
              "    <div class=\"colab-df-container\">\n",
              "      <div>\n",
              "<style scoped>\n",
              "    .dataframe tbody tr th:only-of-type {\n",
              "        vertical-align: middle;\n",
              "    }\n",
              "\n",
              "    .dataframe tbody tr th {\n",
              "        vertical-align: top;\n",
              "    }\n",
              "\n",
              "    .dataframe thead th {\n",
              "        text-align: right;\n",
              "    }\n",
              "</style>\n",
              "<table border=\"1\" class=\"dataframe\">\n",
              "  <thead>\n",
              "    <tr style=\"text-align: right;\">\n",
              "      <th></th>\n",
              "      <th>Place_Id</th>\n",
              "      <th>Place_Name</th>\n",
              "      <th>Description</th>\n",
              "      <th>Category</th>\n",
              "      <th>City</th>\n",
              "      <th>Price</th>\n",
              "      <th>Rating</th>\n",
              "      <th>Time_Minutes</th>\n",
              "      <th>Coordinate</th>\n",
              "      <th>Lat</th>\n",
              "      <th>Long</th>\n",
              "    </tr>\n",
              "  </thead>\n",
              "  <tbody>\n",
              "    <tr>\n",
              "      <th>0</th>\n",
              "      <td>1</td>\n",
              "      <td>Monumen Nasional</td>\n",
              "      <td>Monumen Nasional atau yang populer disingkat d...</td>\n",
              "      <td>Budaya</td>\n",
              "      <td>Jakarta</td>\n",
              "      <td>20000</td>\n",
              "      <td>4.6</td>\n",
              "      <td>15.0</td>\n",
              "      <td>{'lat': -6.1753924, 'lng': 106.8271528}</td>\n",
              "      <td>-6.175392</td>\n",
              "      <td>106.827153</td>\n",
              "    </tr>\n",
              "    <tr>\n",
              "      <th>1</th>\n",
              "      <td>2</td>\n",
              "      <td>Kota Tua</td>\n",
              "      <td>Kota tua di Jakarta, yang juga bernama Kota Tu...</td>\n",
              "      <td>Budaya</td>\n",
              "      <td>Jakarta</td>\n",
              "      <td>0</td>\n",
              "      <td>4.6</td>\n",
              "      <td>90.0</td>\n",
              "      <td>{'lat': -6.137644799999999, 'lng': 106.8171245}</td>\n",
              "      <td>-6.137645</td>\n",
              "      <td>106.817125</td>\n",
              "    </tr>\n",
              "    <tr>\n",
              "      <th>2</th>\n",
              "      <td>3</td>\n",
              "      <td>Dunia Fantasi</td>\n",
              "      <td>Dunia Fantasi atau disebut juga Dufan adalah t...</td>\n",
              "      <td>Taman Hiburan</td>\n",
              "      <td>Jakarta</td>\n",
              "      <td>270000</td>\n",
              "      <td>4.6</td>\n",
              "      <td>360.0</td>\n",
              "      <td>{'lat': -6.125312399999999, 'lng': 106.8335377}</td>\n",
              "      <td>-6.125312</td>\n",
              "      <td>106.833538</td>\n",
              "    </tr>\n",
              "    <tr>\n",
              "      <th>3</th>\n",
              "      <td>4</td>\n",
              "      <td>Taman Mini Indonesia Indah (TMII)</td>\n",
              "      <td>Taman Mini Indonesia Indah merupakan suatu kaw...</td>\n",
              "      <td>Taman Hiburan</td>\n",
              "      <td>Jakarta</td>\n",
              "      <td>10000</td>\n",
              "      <td>4.5</td>\n",
              "      <td>NaN</td>\n",
              "      <td>{'lat': -6.302445899999999, 'lng': 106.8951559}</td>\n",
              "      <td>-6.302446</td>\n",
              "      <td>106.895156</td>\n",
              "    </tr>\n",
              "    <tr>\n",
              "      <th>4</th>\n",
              "      <td>5</td>\n",
              "      <td>Atlantis Water Adventure</td>\n",
              "      <td>Atlantis Water Adventure atau dikenal dengan A...</td>\n",
              "      <td>Taman Hiburan</td>\n",
              "      <td>Jakarta</td>\n",
              "      <td>94000</td>\n",
              "      <td>4.5</td>\n",
              "      <td>60.0</td>\n",
              "      <td>{'lat': -6.12419, 'lng': 106.839134}</td>\n",
              "      <td>-6.124190</td>\n",
              "      <td>106.839134</td>\n",
              "    </tr>\n",
              "  </tbody>\n",
              "</table>\n",
              "</div>\n",
              "      <button class=\"colab-df-convert\" onclick=\"convertToInteractive('df-4c0e5cce-49a2-4edd-a87f-c1a6c4de6448')\"\n",
              "              title=\"Convert this dataframe to an interactive table.\"\n",
              "              style=\"display:none;\">\n",
              "        \n",
              "  <svg xmlns=\"http://www.w3.org/2000/svg\" height=\"24px\"viewBox=\"0 0 24 24\"\n",
              "       width=\"24px\">\n",
              "    <path d=\"M0 0h24v24H0V0z\" fill=\"none\"/>\n",
              "    <path d=\"M18.56 5.44l.94 2.06.94-2.06 2.06-.94-2.06-.94-.94-2.06-.94 2.06-2.06.94zm-11 1L8.5 8.5l.94-2.06 2.06-.94-2.06-.94L8.5 2.5l-.94 2.06-2.06.94zm10 10l.94 2.06.94-2.06 2.06-.94-2.06-.94-.94-2.06-.94 2.06-2.06.94z\"/><path d=\"M17.41 7.96l-1.37-1.37c-.4-.4-.92-.59-1.43-.59-.52 0-1.04.2-1.43.59L10.3 9.45l-7.72 7.72c-.78.78-.78 2.05 0 2.83L4 21.41c.39.39.9.59 1.41.59.51 0 1.02-.2 1.41-.59l7.78-7.78 2.81-2.81c.8-.78.8-2.07 0-2.86zM5.41 20L4 18.59l7.72-7.72 1.47 1.35L5.41 20z\"/>\n",
              "  </svg>\n",
              "      </button>\n",
              "      \n",
              "  <style>\n",
              "    .colab-df-container {\n",
              "      display:flex;\n",
              "      flex-wrap:wrap;\n",
              "      gap: 12px;\n",
              "    }\n",
              "\n",
              "    .colab-df-convert {\n",
              "      background-color: #E8F0FE;\n",
              "      border: none;\n",
              "      border-radius: 50%;\n",
              "      cursor: pointer;\n",
              "      display: none;\n",
              "      fill: #1967D2;\n",
              "      height: 32px;\n",
              "      padding: 0 0 0 0;\n",
              "      width: 32px;\n",
              "    }\n",
              "\n",
              "    .colab-df-convert:hover {\n",
              "      background-color: #E2EBFA;\n",
              "      box-shadow: 0px 1px 2px rgba(60, 64, 67, 0.3), 0px 1px 3px 1px rgba(60, 64, 67, 0.15);\n",
              "      fill: #174EA6;\n",
              "    }\n",
              "\n",
              "    [theme=dark] .colab-df-convert {\n",
              "      background-color: #3B4455;\n",
              "      fill: #D2E3FC;\n",
              "    }\n",
              "\n",
              "    [theme=dark] .colab-df-convert:hover {\n",
              "      background-color: #434B5C;\n",
              "      box-shadow: 0px 1px 3px 1px rgba(0, 0, 0, 0.15);\n",
              "      filter: drop-shadow(0px 1px 2px rgba(0, 0, 0, 0.3));\n",
              "      fill: #FFFFFF;\n",
              "    }\n",
              "  </style>\n",
              "\n",
              "      <script>\n",
              "        const buttonEl =\n",
              "          document.querySelector('#df-4c0e5cce-49a2-4edd-a87f-c1a6c4de6448 button.colab-df-convert');\n",
              "        buttonEl.style.display =\n",
              "          google.colab.kernel.accessAllowed ? 'block' : 'none';\n",
              "\n",
              "        async function convertToInteractive(key) {\n",
              "          const element = document.querySelector('#df-4c0e5cce-49a2-4edd-a87f-c1a6c4de6448');\n",
              "          const dataTable =\n",
              "            await google.colab.kernel.invokeFunction('convertToInteractive',\n",
              "                                                     [key], {});\n",
              "          if (!dataTable) return;\n",
              "\n",
              "          const docLinkHtml = 'Like what you see? Visit the ' +\n",
              "            '<a target=\"_blank\" href=https://colab.research.google.com/notebooks/data_table.ipynb>data table notebook</a>'\n",
              "            + ' to learn more about interactive tables.';\n",
              "          element.innerHTML = '';\n",
              "          dataTable['output_type'] = 'display_data';\n",
              "          await google.colab.output.renderOutput(dataTable, element);\n",
              "          const docLink = document.createElement('div');\n",
              "          docLink.innerHTML = docLinkHtml;\n",
              "          element.appendChild(docLink);\n",
              "        }\n",
              "      </script>\n",
              "    </div>\n",
              "  </div>\n",
              "  "
            ]
          },
          "metadata": {},
          "execution_count": 64
        }
      ],
      "source": [
        "# Membuang kolom yang tidak dipakai\n",
        "\n",
        "place = place.drop(['Unnamed: 11','Unnamed: 12'],axis=1)\n",
        "place.head()"
      ]
    },
    {
      "cell_type": "code",
      "source": [
        "# sum over the column axis.\n",
        "place.City.value_counts(ascending = False)"
      ],
      "metadata": {
        "colab": {
          "base_uri": "https://localhost:8080/"
        },
        "id": "n9c85-X3G2sI",
        "outputId": "29698443-155d-4602-a3ac-4cd62211b0d9"
      },
      "execution_count": null,
      "outputs": [
        {
          "output_type": "execute_result",
          "data": {
            "text/plain": [
              "Yogyakarta    126\n",
              "Bandung       124\n",
              "Jakarta        84\n",
              "Semarang       57\n",
              "Surabaya       46\n",
              "Name: City, dtype: int64"
            ]
          },
          "metadata": {},
          "execution_count": 68
        }
      ]
    },
    {
      "cell_type": "code",
      "execution_count": null,
      "metadata": {
        "execution": {
          "iopub.execute_input": "2021-10-27T02:47:57.349623Z",
          "iopub.status.busy": "2021-10-27T02:47:57.348946Z",
          "iopub.status.idle": "2021-10-27T02:47:57.372157Z",
          "shell.execute_reply": "2021-10-27T02:47:57.371300Z",
          "shell.execute_reply.started": "2021-10-27T02:47:57.349573Z"
        },
        "id": "jzw8PQIdEPZ5",
        "outputId": "3c068faa-31a7-4f5d-cbaa-680df025277f",
        "trusted": true,
        "colab": {
          "base_uri": "https://localhost:8080/",
          "height": 225
        }
      },
      "outputs": [
        {
          "output_type": "execute_result",
          "data": {
            "text/plain": [
              "     Place_Id              Place_Name  \\\n",
              "210       211  GunungTangkuban perahu   \n",
              "211       212             Jalan Braga   \n",
              "\n",
              "                                           Description    Category     City  \\\n",
              "210  Gunung Tangkuban Parahu adalah salah satu gunu...  Cagar Alam  Bandung   \n",
              "211  Jalan Braga adalah nama sebuah jalan utama di ...      Budaya  Bandung   \n",
              "\n",
              "     Price  Rating  Time_Minutes  \\\n",
              "210  30000     4.5           NaN   \n",
              "211      0     4.7           NaN   \n",
              "\n",
              "                                          Coordinate       Lat        Long  \n",
              "210  {'lat': -6.759637700000001, 'lng': 107.6097807} -6.759638  107.609781  \n",
              "211          {'lat': -6.9150534, 'lng': 107.6089842} -6.915053  107.608984  "
            ],
            "text/html": [
              "\n",
              "  <div id=\"df-c267207c-8153-4e08-aae2-5b967b3e31e2\">\n",
              "    <div class=\"colab-df-container\">\n",
              "      <div>\n",
              "<style scoped>\n",
              "    .dataframe tbody tr th:only-of-type {\n",
              "        vertical-align: middle;\n",
              "    }\n",
              "\n",
              "    .dataframe tbody tr th {\n",
              "        vertical-align: top;\n",
              "    }\n",
              "\n",
              "    .dataframe thead th {\n",
              "        text-align: right;\n",
              "    }\n",
              "</style>\n",
              "<table border=\"1\" class=\"dataframe\">\n",
              "  <thead>\n",
              "    <tr style=\"text-align: right;\">\n",
              "      <th></th>\n",
              "      <th>Place_Id</th>\n",
              "      <th>Place_Name</th>\n",
              "      <th>Description</th>\n",
              "      <th>Category</th>\n",
              "      <th>City</th>\n",
              "      <th>Price</th>\n",
              "      <th>Rating</th>\n",
              "      <th>Time_Minutes</th>\n",
              "      <th>Coordinate</th>\n",
              "      <th>Lat</th>\n",
              "      <th>Long</th>\n",
              "    </tr>\n",
              "  </thead>\n",
              "  <tbody>\n",
              "    <tr>\n",
              "      <th>210</th>\n",
              "      <td>211</td>\n",
              "      <td>GunungTangkuban perahu</td>\n",
              "      <td>Gunung Tangkuban Parahu adalah salah satu gunu...</td>\n",
              "      <td>Cagar Alam</td>\n",
              "      <td>Bandung</td>\n",
              "      <td>30000</td>\n",
              "      <td>4.5</td>\n",
              "      <td>NaN</td>\n",
              "      <td>{'lat': -6.759637700000001, 'lng': 107.6097807}</td>\n",
              "      <td>-6.759638</td>\n",
              "      <td>107.609781</td>\n",
              "    </tr>\n",
              "    <tr>\n",
              "      <th>211</th>\n",
              "      <td>212</td>\n",
              "      <td>Jalan Braga</td>\n",
              "      <td>Jalan Braga adalah nama sebuah jalan utama di ...</td>\n",
              "      <td>Budaya</td>\n",
              "      <td>Bandung</td>\n",
              "      <td>0</td>\n",
              "      <td>4.7</td>\n",
              "      <td>NaN</td>\n",
              "      <td>{'lat': -6.9150534, 'lng': 107.6089842}</td>\n",
              "      <td>-6.915053</td>\n",
              "      <td>107.608984</td>\n",
              "    </tr>\n",
              "  </tbody>\n",
              "</table>\n",
              "</div>\n",
              "      <button class=\"colab-df-convert\" onclick=\"convertToInteractive('df-c267207c-8153-4e08-aae2-5b967b3e31e2')\"\n",
              "              title=\"Convert this dataframe to an interactive table.\"\n",
              "              style=\"display:none;\">\n",
              "        \n",
              "  <svg xmlns=\"http://www.w3.org/2000/svg\" height=\"24px\"viewBox=\"0 0 24 24\"\n",
              "       width=\"24px\">\n",
              "    <path d=\"M0 0h24v24H0V0z\" fill=\"none\"/>\n",
              "    <path d=\"M18.56 5.44l.94 2.06.94-2.06 2.06-.94-2.06-.94-.94-2.06-.94 2.06-2.06.94zm-11 1L8.5 8.5l.94-2.06 2.06-.94-2.06-.94L8.5 2.5l-.94 2.06-2.06.94zm10 10l.94 2.06.94-2.06 2.06-.94-2.06-.94-.94-2.06-.94 2.06-2.06.94z\"/><path d=\"M17.41 7.96l-1.37-1.37c-.4-.4-.92-.59-1.43-.59-.52 0-1.04.2-1.43.59L10.3 9.45l-7.72 7.72c-.78.78-.78 2.05 0 2.83L4 21.41c.39.39.9.59 1.41.59.51 0 1.02-.2 1.41-.59l7.78-7.78 2.81-2.81c.8-.78.8-2.07 0-2.86zM5.41 20L4 18.59l7.72-7.72 1.47 1.35L5.41 20z\"/>\n",
              "  </svg>\n",
              "      </button>\n",
              "      \n",
              "  <style>\n",
              "    .colab-df-container {\n",
              "      display:flex;\n",
              "      flex-wrap:wrap;\n",
              "      gap: 12px;\n",
              "    }\n",
              "\n",
              "    .colab-df-convert {\n",
              "      background-color: #E8F0FE;\n",
              "      border: none;\n",
              "      border-radius: 50%;\n",
              "      cursor: pointer;\n",
              "      display: none;\n",
              "      fill: #1967D2;\n",
              "      height: 32px;\n",
              "      padding: 0 0 0 0;\n",
              "      width: 32px;\n",
              "    }\n",
              "\n",
              "    .colab-df-convert:hover {\n",
              "      background-color: #E2EBFA;\n",
              "      box-shadow: 0px 1px 2px rgba(60, 64, 67, 0.3), 0px 1px 3px 1px rgba(60, 64, 67, 0.15);\n",
              "      fill: #174EA6;\n",
              "    }\n",
              "\n",
              "    [theme=dark] .colab-df-convert {\n",
              "      background-color: #3B4455;\n",
              "      fill: #D2E3FC;\n",
              "    }\n",
              "\n",
              "    [theme=dark] .colab-df-convert:hover {\n",
              "      background-color: #434B5C;\n",
              "      box-shadow: 0px 1px 3px 1px rgba(0, 0, 0, 0.15);\n",
              "      filter: drop-shadow(0px 1px 2px rgba(0, 0, 0, 0.3));\n",
              "      fill: #FFFFFF;\n",
              "    }\n",
              "  </style>\n",
              "\n",
              "      <script>\n",
              "        const buttonEl =\n",
              "          document.querySelector('#df-c267207c-8153-4e08-aae2-5b967b3e31e2 button.colab-df-convert');\n",
              "        buttonEl.style.display =\n",
              "          google.colab.kernel.accessAllowed ? 'block' : 'none';\n",
              "\n",
              "        async function convertToInteractive(key) {\n",
              "          const element = document.querySelector('#df-c267207c-8153-4e08-aae2-5b967b3e31e2');\n",
              "          const dataTable =\n",
              "            await google.colab.kernel.invokeFunction('convertToInteractive',\n",
              "                                                     [key], {});\n",
              "          if (!dataTable) return;\n",
              "\n",
              "          const docLinkHtml = 'Like what you see? Visit the ' +\n",
              "            '<a target=\"_blank\" href=https://colab.research.google.com/notebooks/data_table.ipynb>data table notebook</a>'\n",
              "            + ' to learn more about interactive tables.';\n",
              "          element.innerHTML = '';\n",
              "          dataTable['output_type'] = 'display_data';\n",
              "          await google.colab.output.renderOutput(dataTable, element);\n",
              "          const docLink = document.createElement('div');\n",
              "          docLink.innerHTML = docLinkHtml;\n",
              "          element.appendChild(docLink);\n",
              "        }\n",
              "      </script>\n",
              "    </div>\n",
              "  </div>\n",
              "  "
            ]
          },
          "metadata": {},
          "execution_count": 53
        }
      ],
      "source": [
        "# Merubah data agar hanya dari Kota Bandung\n",
        "\n",
        "#place = place[place['City']=='Bandung']\n",
        "#place.head()"
      ]
    },
    {
      "cell_type": "code",
      "execution_count": null,
      "metadata": {
        "execution": {
          "iopub.execute_input": "2021-10-27T02:47:57.373856Z",
          "iopub.status.busy": "2021-10-27T02:47:57.373432Z",
          "iopub.status.idle": "2021-10-27T02:47:57.391689Z",
          "shell.execute_reply": "2021-10-27T02:47:57.390860Z",
          "shell.execute_reply.started": "2021-10-27T02:47:57.373822Z"
        },
        "id": "VhvGY2QEzghW",
        "outputId": "61a1e23d-d35e-452b-887a-c6a8e01126ef",
        "trusted": true,
        "colab": {
          "base_uri": "https://localhost:8080/"
        }
      },
      "outputs": [
        {
          "output_type": "stream",
          "name": "stdout",
          "text": [
            "<class 'pandas.core.frame.DataFrame'>\n",
            "RangeIndex: 437 entries, 0 to 436\n",
            "Data columns (total 11 columns):\n",
            " #   Column        Non-Null Count  Dtype  \n",
            "---  ------        --------------  -----  \n",
            " 0   Place_Id      437 non-null    int64  \n",
            " 1   Place_Name    437 non-null    object \n",
            " 2   Description   437 non-null    object \n",
            " 3   Category      437 non-null    object \n",
            " 4   City          437 non-null    object \n",
            " 5   Price         437 non-null    int64  \n",
            " 6   Rating        437 non-null    float64\n",
            " 7   Time_Minutes  205 non-null    float64\n",
            " 8   Coordinate    437 non-null    object \n",
            " 9   Lat           437 non-null    float64\n",
            " 10  Long          437 non-null    float64\n",
            "dtypes: float64(4), int64(2), object(5)\n",
            "memory usage: 37.7+ KB\n"
          ]
        }
      ],
      "source": [
        "place.info()"
      ]
    },
    {
      "cell_type": "code",
      "execution_count": null,
      "metadata": {
        "execution": {
          "iopub.execute_input": "2021-10-27T02:47:57.393332Z",
          "iopub.status.busy": "2021-10-27T02:47:57.393086Z",
          "iopub.status.idle": "2021-10-27T02:47:57.398190Z",
          "shell.execute_reply": "2021-10-27T02:47:57.397561Z",
          "shell.execute_reply.started": "2021-10-27T02:47:57.393302Z"
        },
        "id": "uO8SEj_mznSb",
        "trusted": true
      },
      "outputs": [],
      "source": [
        "# Membuang kolom yang tidak dipakai\n",
        "\n",
        "place = place.drop('Time_Minutes', axis=1)"
      ]
    },
    {
      "cell_type": "markdown",
      "metadata": {
        "id": "MkmQhBc9yrpq"
      },
      "source": [
        "#### 3.2.2. Data rating"
      ]
    },
    {
      "cell_type": "code",
      "execution_count": null,
      "metadata": {
        "execution": {
          "iopub.execute_input": "2021-10-27T02:47:57.399565Z",
          "iopub.status.busy": "2021-10-27T02:47:57.399150Z",
          "iopub.status.idle": "2021-10-27T02:47:57.414473Z",
          "shell.execute_reply": "2021-10-27T02:47:57.413438Z",
          "shell.execute_reply.started": "2021-10-27T02:47:57.399532Z"
        },
        "id": "6LQMIb7s0cFU",
        "outputId": "303b3d23-61e4-48d2-f61a-7587b6e4f70b",
        "trusted": true,
        "colab": {
          "base_uri": "https://localhost:8080/",
          "height": 206
        }
      },
      "outputs": [
        {
          "output_type": "execute_result",
          "data": {
            "text/plain": [
              "   User_Id  Place_Id  Place_Ratings\n",
              "0        1       179              3\n",
              "1        1       344              2\n",
              "2        1         5              5\n",
              "3        1       373              3\n",
              "4        1       101              4"
            ],
            "text/html": [
              "\n",
              "  <div id=\"df-6ca3d6f5-19ff-444a-960b-cc0f88c94d1e\">\n",
              "    <div class=\"colab-df-container\">\n",
              "      <div>\n",
              "<style scoped>\n",
              "    .dataframe tbody tr th:only-of-type {\n",
              "        vertical-align: middle;\n",
              "    }\n",
              "\n",
              "    .dataframe tbody tr th {\n",
              "        vertical-align: top;\n",
              "    }\n",
              "\n",
              "    .dataframe thead th {\n",
              "        text-align: right;\n",
              "    }\n",
              "</style>\n",
              "<table border=\"1\" class=\"dataframe\">\n",
              "  <thead>\n",
              "    <tr style=\"text-align: right;\">\n",
              "      <th></th>\n",
              "      <th>User_Id</th>\n",
              "      <th>Place_Id</th>\n",
              "      <th>Place_Ratings</th>\n",
              "    </tr>\n",
              "  </thead>\n",
              "  <tbody>\n",
              "    <tr>\n",
              "      <th>0</th>\n",
              "      <td>1</td>\n",
              "      <td>179</td>\n",
              "      <td>3</td>\n",
              "    </tr>\n",
              "    <tr>\n",
              "      <th>1</th>\n",
              "      <td>1</td>\n",
              "      <td>344</td>\n",
              "      <td>2</td>\n",
              "    </tr>\n",
              "    <tr>\n",
              "      <th>2</th>\n",
              "      <td>1</td>\n",
              "      <td>5</td>\n",
              "      <td>5</td>\n",
              "    </tr>\n",
              "    <tr>\n",
              "      <th>3</th>\n",
              "      <td>1</td>\n",
              "      <td>373</td>\n",
              "      <td>3</td>\n",
              "    </tr>\n",
              "    <tr>\n",
              "      <th>4</th>\n",
              "      <td>1</td>\n",
              "      <td>101</td>\n",
              "      <td>4</td>\n",
              "    </tr>\n",
              "  </tbody>\n",
              "</table>\n",
              "</div>\n",
              "      <button class=\"colab-df-convert\" onclick=\"convertToInteractive('df-6ca3d6f5-19ff-444a-960b-cc0f88c94d1e')\"\n",
              "              title=\"Convert this dataframe to an interactive table.\"\n",
              "              style=\"display:none;\">\n",
              "        \n",
              "  <svg xmlns=\"http://www.w3.org/2000/svg\" height=\"24px\"viewBox=\"0 0 24 24\"\n",
              "       width=\"24px\">\n",
              "    <path d=\"M0 0h24v24H0V0z\" fill=\"none\"/>\n",
              "    <path d=\"M18.56 5.44l.94 2.06.94-2.06 2.06-.94-2.06-.94-.94-2.06-.94 2.06-2.06.94zm-11 1L8.5 8.5l.94-2.06 2.06-.94-2.06-.94L8.5 2.5l-.94 2.06-2.06.94zm10 10l.94 2.06.94-2.06 2.06-.94-2.06-.94-.94-2.06-.94 2.06-2.06.94z\"/><path d=\"M17.41 7.96l-1.37-1.37c-.4-.4-.92-.59-1.43-.59-.52 0-1.04.2-1.43.59L10.3 9.45l-7.72 7.72c-.78.78-.78 2.05 0 2.83L4 21.41c.39.39.9.59 1.41.59.51 0 1.02-.2 1.41-.59l7.78-7.78 2.81-2.81c.8-.78.8-2.07 0-2.86zM5.41 20L4 18.59l7.72-7.72 1.47 1.35L5.41 20z\"/>\n",
              "  </svg>\n",
              "      </button>\n",
              "      \n",
              "  <style>\n",
              "    .colab-df-container {\n",
              "      display:flex;\n",
              "      flex-wrap:wrap;\n",
              "      gap: 12px;\n",
              "    }\n",
              "\n",
              "    .colab-df-convert {\n",
              "      background-color: #E8F0FE;\n",
              "      border: none;\n",
              "      border-radius: 50%;\n",
              "      cursor: pointer;\n",
              "      display: none;\n",
              "      fill: #1967D2;\n",
              "      height: 32px;\n",
              "      padding: 0 0 0 0;\n",
              "      width: 32px;\n",
              "    }\n",
              "\n",
              "    .colab-df-convert:hover {\n",
              "      background-color: #E2EBFA;\n",
              "      box-shadow: 0px 1px 2px rgba(60, 64, 67, 0.3), 0px 1px 3px 1px rgba(60, 64, 67, 0.15);\n",
              "      fill: #174EA6;\n",
              "    }\n",
              "\n",
              "    [theme=dark] .colab-df-convert {\n",
              "      background-color: #3B4455;\n",
              "      fill: #D2E3FC;\n",
              "    }\n",
              "\n",
              "    [theme=dark] .colab-df-convert:hover {\n",
              "      background-color: #434B5C;\n",
              "      box-shadow: 0px 1px 3px 1px rgba(0, 0, 0, 0.15);\n",
              "      filter: drop-shadow(0px 1px 2px rgba(0, 0, 0, 0.3));\n",
              "      fill: #FFFFFF;\n",
              "    }\n",
              "  </style>\n",
              "\n",
              "      <script>\n",
              "        const buttonEl =\n",
              "          document.querySelector('#df-6ca3d6f5-19ff-444a-960b-cc0f88c94d1e button.colab-df-convert');\n",
              "        buttonEl.style.display =\n",
              "          google.colab.kernel.accessAllowed ? 'block' : 'none';\n",
              "\n",
              "        async function convertToInteractive(key) {\n",
              "          const element = document.querySelector('#df-6ca3d6f5-19ff-444a-960b-cc0f88c94d1e');\n",
              "          const dataTable =\n",
              "            await google.colab.kernel.invokeFunction('convertToInteractive',\n",
              "                                                     [key], {});\n",
              "          if (!dataTable) return;\n",
              "\n",
              "          const docLinkHtml = 'Like what you see? Visit the ' +\n",
              "            '<a target=\"_blank\" href=https://colab.research.google.com/notebooks/data_table.ipynb>data table notebook</a>'\n",
              "            + ' to learn more about interactive tables.';\n",
              "          element.innerHTML = '';\n",
              "          dataTable['output_type'] = 'display_data';\n",
              "          await google.colab.output.renderOutput(dataTable, element);\n",
              "          const docLink = document.createElement('div');\n",
              "          docLink.innerHTML = docLinkHtml;\n",
              "          element.appendChild(docLink);\n",
              "        }\n",
              "      </script>\n",
              "    </div>\n",
              "  </div>\n",
              "  "
            ]
          },
          "metadata": {},
          "execution_count": 71
        }
      ],
      "source": [
        "# melihat gambaran data rating\n",
        "\n",
        "rating.head()"
      ]
    },
    {
      "cell_type": "code",
      "execution_count": null,
      "metadata": {
        "execution": {
          "iopub.execute_input": "2021-10-27T02:47:57.418005Z",
          "iopub.status.busy": "2021-10-27T02:47:57.417682Z",
          "iopub.status.idle": "2021-10-27T02:47:57.430243Z",
          "shell.execute_reply": "2021-10-27T02:47:57.429156Z",
          "shell.execute_reply.started": "2021-10-27T02:47:57.417973Z"
        },
        "id": "jyaUT8hhzAil",
        "outputId": "b68895df-1e8f-4e4d-b5f1-0c273daa3f35",
        "trusted": true,
        "colab": {
          "base_uri": "https://localhost:8080/"
        }
      },
      "outputs": [
        {
          "output_type": "stream",
          "name": "stdout",
          "text": [
            "<class 'pandas.core.frame.DataFrame'>\n",
            "RangeIndex: 10000 entries, 0 to 9999\n",
            "Data columns (total 3 columns):\n",
            " #   Column         Non-Null Count  Dtype\n",
            "---  ------         --------------  -----\n",
            " 0   User_Id        10000 non-null  int64\n",
            " 1   Place_Id       10000 non-null  int64\n",
            " 2   Place_Ratings  10000 non-null  int64\n",
            "dtypes: int64(3)\n",
            "memory usage: 234.5 KB\n"
          ]
        }
      ],
      "source": [
        "rating.info()"
      ]
    },
    {
      "cell_type": "code",
      "execution_count": null,
      "metadata": {
        "execution": {
          "iopub.execute_input": "2021-10-27T02:47:57.432166Z",
          "iopub.status.busy": "2021-10-27T02:47:57.431851Z",
          "iopub.status.idle": "2021-10-27T02:47:57.450842Z",
          "shell.execute_reply": "2021-10-27T02:47:57.449940Z",
          "shell.execute_reply.started": "2021-10-27T02:47:57.432125Z"
        },
        "id": "HpkN9Ggoz7zd",
        "outputId": "5dfff67c-6c1f-4c23-c9ec-97198aa14a7b",
        "trusted": true,
        "colab": {
          "base_uri": "https://localhost:8080/",
          "height": 206
        }
      },
      "outputs": [
        {
          "output_type": "execute_result",
          "data": {
            "text/plain": [
              "   User_Id  Place_Id  Place_Ratings\n",
              "0       36         1              4\n",
              "1       38         1              2\n",
              "2       64         1              2\n",
              "3       74         1              2\n",
              "4       86         1              4"
            ],
            "text/html": [
              "\n",
              "  <div id=\"df-72fe578a-0c29-4852-8ebe-c11a421534e8\">\n",
              "    <div class=\"colab-df-container\">\n",
              "      <div>\n",
              "<style scoped>\n",
              "    .dataframe tbody tr th:only-of-type {\n",
              "        vertical-align: middle;\n",
              "    }\n",
              "\n",
              "    .dataframe tbody tr th {\n",
              "        vertical-align: top;\n",
              "    }\n",
              "\n",
              "    .dataframe thead th {\n",
              "        text-align: right;\n",
              "    }\n",
              "</style>\n",
              "<table border=\"1\" class=\"dataframe\">\n",
              "  <thead>\n",
              "    <tr style=\"text-align: right;\">\n",
              "      <th></th>\n",
              "      <th>User_Id</th>\n",
              "      <th>Place_Id</th>\n",
              "      <th>Place_Ratings</th>\n",
              "    </tr>\n",
              "  </thead>\n",
              "  <tbody>\n",
              "    <tr>\n",
              "      <th>0</th>\n",
              "      <td>36</td>\n",
              "      <td>1</td>\n",
              "      <td>4</td>\n",
              "    </tr>\n",
              "    <tr>\n",
              "      <th>1</th>\n",
              "      <td>38</td>\n",
              "      <td>1</td>\n",
              "      <td>2</td>\n",
              "    </tr>\n",
              "    <tr>\n",
              "      <th>2</th>\n",
              "      <td>64</td>\n",
              "      <td>1</td>\n",
              "      <td>2</td>\n",
              "    </tr>\n",
              "    <tr>\n",
              "      <th>3</th>\n",
              "      <td>74</td>\n",
              "      <td>1</td>\n",
              "      <td>2</td>\n",
              "    </tr>\n",
              "    <tr>\n",
              "      <th>4</th>\n",
              "      <td>86</td>\n",
              "      <td>1</td>\n",
              "      <td>4</td>\n",
              "    </tr>\n",
              "  </tbody>\n",
              "</table>\n",
              "</div>\n",
              "      <button class=\"colab-df-convert\" onclick=\"convertToInteractive('df-72fe578a-0c29-4852-8ebe-c11a421534e8')\"\n",
              "              title=\"Convert this dataframe to an interactive table.\"\n",
              "              style=\"display:none;\">\n",
              "        \n",
              "  <svg xmlns=\"http://www.w3.org/2000/svg\" height=\"24px\"viewBox=\"0 0 24 24\"\n",
              "       width=\"24px\">\n",
              "    <path d=\"M0 0h24v24H0V0z\" fill=\"none\"/>\n",
              "    <path d=\"M18.56 5.44l.94 2.06.94-2.06 2.06-.94-2.06-.94-.94-2.06-.94 2.06-2.06.94zm-11 1L8.5 8.5l.94-2.06 2.06-.94-2.06-.94L8.5 2.5l-.94 2.06-2.06.94zm10 10l.94 2.06.94-2.06 2.06-.94-2.06-.94-.94-2.06-.94 2.06-2.06.94z\"/><path d=\"M17.41 7.96l-1.37-1.37c-.4-.4-.92-.59-1.43-.59-.52 0-1.04.2-1.43.59L10.3 9.45l-7.72 7.72c-.78.78-.78 2.05 0 2.83L4 21.41c.39.39.9.59 1.41.59.51 0 1.02-.2 1.41-.59l7.78-7.78 2.81-2.81c.8-.78.8-2.07 0-2.86zM5.41 20L4 18.59l7.72-7.72 1.47 1.35L5.41 20z\"/>\n",
              "  </svg>\n",
              "      </button>\n",
              "      \n",
              "  <style>\n",
              "    .colab-df-container {\n",
              "      display:flex;\n",
              "      flex-wrap:wrap;\n",
              "      gap: 12px;\n",
              "    }\n",
              "\n",
              "    .colab-df-convert {\n",
              "      background-color: #E8F0FE;\n",
              "      border: none;\n",
              "      border-radius: 50%;\n",
              "      cursor: pointer;\n",
              "      display: none;\n",
              "      fill: #1967D2;\n",
              "      height: 32px;\n",
              "      padding: 0 0 0 0;\n",
              "      width: 32px;\n",
              "    }\n",
              "\n",
              "    .colab-df-convert:hover {\n",
              "      background-color: #E2EBFA;\n",
              "      box-shadow: 0px 1px 2px rgba(60, 64, 67, 0.3), 0px 1px 3px 1px rgba(60, 64, 67, 0.15);\n",
              "      fill: #174EA6;\n",
              "    }\n",
              "\n",
              "    [theme=dark] .colab-df-convert {\n",
              "      background-color: #3B4455;\n",
              "      fill: #D2E3FC;\n",
              "    }\n",
              "\n",
              "    [theme=dark] .colab-df-convert:hover {\n",
              "      background-color: #434B5C;\n",
              "      box-shadow: 0px 1px 3px 1px rgba(0, 0, 0, 0.15);\n",
              "      filter: drop-shadow(0px 1px 2px rgba(0, 0, 0, 0.3));\n",
              "      fill: #FFFFFF;\n",
              "    }\n",
              "  </style>\n",
              "\n",
              "      <script>\n",
              "        const buttonEl =\n",
              "          document.querySelector('#df-72fe578a-0c29-4852-8ebe-c11a421534e8 button.colab-df-convert');\n",
              "        buttonEl.style.display =\n",
              "          google.colab.kernel.accessAllowed ? 'block' : 'none';\n",
              "\n",
              "        async function convertToInteractive(key) {\n",
              "          const element = document.querySelector('#df-72fe578a-0c29-4852-8ebe-c11a421534e8');\n",
              "          const dataTable =\n",
              "            await google.colab.kernel.invokeFunction('convertToInteractive',\n",
              "                                                     [key], {});\n",
              "          if (!dataTable) return;\n",
              "\n",
              "          const docLinkHtml = 'Like what you see? Visit the ' +\n",
              "            '<a target=\"_blank\" href=https://colab.research.google.com/notebooks/data_table.ipynb>data table notebook</a>'\n",
              "            + ' to learn more about interactive tables.';\n",
              "          element.innerHTML = '';\n",
              "          dataTable['output_type'] = 'display_data';\n",
              "          await google.colab.output.renderOutput(dataTable, element);\n",
              "          const docLink = document.createElement('div');\n",
              "          docLink.innerHTML = docLinkHtml;\n",
              "          element.appendChild(docLink);\n",
              "        }\n",
              "      </script>\n",
              "    </div>\n",
              "  </div>\n",
              "  "
            ]
          },
          "metadata": {},
          "execution_count": 73
        }
      ],
      "source": [
        "# Merubah data rating agar hanya berisi rating pada tempat wisata dari Kota Bandung\n",
        "\n",
        "rating = pd.merge(rating, place[['Place_Id']], how='right', on='Place_Id')\n",
        "rating.head()"
      ]
    },
    {
      "cell_type": "code",
      "execution_count": null,
      "metadata": {
        "execution": {
          "iopub.execute_input": "2021-10-27T02:47:57.453233Z",
          "iopub.status.busy": "2021-10-27T02:47:57.452746Z",
          "iopub.status.idle": "2021-10-27T02:47:57.459573Z",
          "shell.execute_reply": "2021-10-27T02:47:57.458562Z",
          "shell.execute_reply.started": "2021-10-27T02:47:57.453190Z"
        },
        "id": "bGlaAHg2yyws",
        "outputId": "71513611-f324-4fbe-c5a6-d401dcc48827",
        "trusted": true,
        "colab": {
          "base_uri": "https://localhost:8080/"
        }
      },
      "outputs": [
        {
          "output_type": "execute_result",
          "data": {
            "text/plain": [
              "(10000, 3)"
            ]
          },
          "metadata": {},
          "execution_count": 74
        }
      ],
      "source": [
        "# Melihat ukuran dataset rating untuk Kota Bandung\n",
        "\n",
        "rating.shape"
      ]
    },
    {
      "cell_type": "markdown",
      "metadata": {
        "id": "CNSsKN17y4Q-"
      },
      "source": [
        "#### 3.2.3. Data user"
      ]
    },
    {
      "cell_type": "code",
      "execution_count": null,
      "metadata": {
        "execution": {
          "iopub.execute_input": "2021-10-27T02:47:57.461777Z",
          "iopub.status.busy": "2021-10-27T02:47:57.461550Z",
          "iopub.status.idle": "2021-10-27T02:47:57.474513Z",
          "shell.execute_reply": "2021-10-27T02:47:57.473546Z",
          "shell.execute_reply.started": "2021-10-27T02:47:57.461751Z"
        },
        "id": "JpISoTwn06HO",
        "outputId": "697c0d09-f4fe-47ef-e94a-b1c8e5763f0f",
        "trusted": true,
        "colab": {
          "base_uri": "https://localhost:8080/",
          "height": 206
        }
      },
      "outputs": [
        {
          "output_type": "execute_result",
          "data": {
            "text/plain": [
              "   User_Id                   Location  Age\n",
              "0        1      Semarang, Jawa Tengah   20\n",
              "1        2         Bekasi, Jawa Barat   21\n",
              "2        3        Cirebon, Jawa Barat   23\n",
              "3        4         Bekasi, Jawa Barat   21\n",
              "4        5  Lampung, Sumatera Selatan   20"
            ],
            "text/html": [
              "\n",
              "  <div id=\"df-f3889e4c-7b0c-4ea0-85ab-9b1782ff78a4\">\n",
              "    <div class=\"colab-df-container\">\n",
              "      <div>\n",
              "<style scoped>\n",
              "    .dataframe tbody tr th:only-of-type {\n",
              "        vertical-align: middle;\n",
              "    }\n",
              "\n",
              "    .dataframe tbody tr th {\n",
              "        vertical-align: top;\n",
              "    }\n",
              "\n",
              "    .dataframe thead th {\n",
              "        text-align: right;\n",
              "    }\n",
              "</style>\n",
              "<table border=\"1\" class=\"dataframe\">\n",
              "  <thead>\n",
              "    <tr style=\"text-align: right;\">\n",
              "      <th></th>\n",
              "      <th>User_Id</th>\n",
              "      <th>Location</th>\n",
              "      <th>Age</th>\n",
              "    </tr>\n",
              "  </thead>\n",
              "  <tbody>\n",
              "    <tr>\n",
              "      <th>0</th>\n",
              "      <td>1</td>\n",
              "      <td>Semarang, Jawa Tengah</td>\n",
              "      <td>20</td>\n",
              "    </tr>\n",
              "    <tr>\n",
              "      <th>1</th>\n",
              "      <td>2</td>\n",
              "      <td>Bekasi, Jawa Barat</td>\n",
              "      <td>21</td>\n",
              "    </tr>\n",
              "    <tr>\n",
              "      <th>2</th>\n",
              "      <td>3</td>\n",
              "      <td>Cirebon, Jawa Barat</td>\n",
              "      <td>23</td>\n",
              "    </tr>\n",
              "    <tr>\n",
              "      <th>3</th>\n",
              "      <td>4</td>\n",
              "      <td>Bekasi, Jawa Barat</td>\n",
              "      <td>21</td>\n",
              "    </tr>\n",
              "    <tr>\n",
              "      <th>4</th>\n",
              "      <td>5</td>\n",
              "      <td>Lampung, Sumatera Selatan</td>\n",
              "      <td>20</td>\n",
              "    </tr>\n",
              "  </tbody>\n",
              "</table>\n",
              "</div>\n",
              "      <button class=\"colab-df-convert\" onclick=\"convertToInteractive('df-f3889e4c-7b0c-4ea0-85ab-9b1782ff78a4')\"\n",
              "              title=\"Convert this dataframe to an interactive table.\"\n",
              "              style=\"display:none;\">\n",
              "        \n",
              "  <svg xmlns=\"http://www.w3.org/2000/svg\" height=\"24px\"viewBox=\"0 0 24 24\"\n",
              "       width=\"24px\">\n",
              "    <path d=\"M0 0h24v24H0V0z\" fill=\"none\"/>\n",
              "    <path d=\"M18.56 5.44l.94 2.06.94-2.06 2.06-.94-2.06-.94-.94-2.06-.94 2.06-2.06.94zm-11 1L8.5 8.5l.94-2.06 2.06-.94-2.06-.94L8.5 2.5l-.94 2.06-2.06.94zm10 10l.94 2.06.94-2.06 2.06-.94-2.06-.94-.94-2.06-.94 2.06-2.06.94z\"/><path d=\"M17.41 7.96l-1.37-1.37c-.4-.4-.92-.59-1.43-.59-.52 0-1.04.2-1.43.59L10.3 9.45l-7.72 7.72c-.78.78-.78 2.05 0 2.83L4 21.41c.39.39.9.59 1.41.59.51 0 1.02-.2 1.41-.59l7.78-7.78 2.81-2.81c.8-.78.8-2.07 0-2.86zM5.41 20L4 18.59l7.72-7.72 1.47 1.35L5.41 20z\"/>\n",
              "  </svg>\n",
              "      </button>\n",
              "      \n",
              "  <style>\n",
              "    .colab-df-container {\n",
              "      display:flex;\n",
              "      flex-wrap:wrap;\n",
              "      gap: 12px;\n",
              "    }\n",
              "\n",
              "    .colab-df-convert {\n",
              "      background-color: #E8F0FE;\n",
              "      border: none;\n",
              "      border-radius: 50%;\n",
              "      cursor: pointer;\n",
              "      display: none;\n",
              "      fill: #1967D2;\n",
              "      height: 32px;\n",
              "      padding: 0 0 0 0;\n",
              "      width: 32px;\n",
              "    }\n",
              "\n",
              "    .colab-df-convert:hover {\n",
              "      background-color: #E2EBFA;\n",
              "      box-shadow: 0px 1px 2px rgba(60, 64, 67, 0.3), 0px 1px 3px 1px rgba(60, 64, 67, 0.15);\n",
              "      fill: #174EA6;\n",
              "    }\n",
              "\n",
              "    [theme=dark] .colab-df-convert {\n",
              "      background-color: #3B4455;\n",
              "      fill: #D2E3FC;\n",
              "    }\n",
              "\n",
              "    [theme=dark] .colab-df-convert:hover {\n",
              "      background-color: #434B5C;\n",
              "      box-shadow: 0px 1px 3px 1px rgba(0, 0, 0, 0.15);\n",
              "      filter: drop-shadow(0px 1px 2px rgba(0, 0, 0, 0.3));\n",
              "      fill: #FFFFFF;\n",
              "    }\n",
              "  </style>\n",
              "\n",
              "      <script>\n",
              "        const buttonEl =\n",
              "          document.querySelector('#df-f3889e4c-7b0c-4ea0-85ab-9b1782ff78a4 button.colab-df-convert');\n",
              "        buttonEl.style.display =\n",
              "          google.colab.kernel.accessAllowed ? 'block' : 'none';\n",
              "\n",
              "        async function convertToInteractive(key) {\n",
              "          const element = document.querySelector('#df-f3889e4c-7b0c-4ea0-85ab-9b1782ff78a4');\n",
              "          const dataTable =\n",
              "            await google.colab.kernel.invokeFunction('convertToInteractive',\n",
              "                                                     [key], {});\n",
              "          if (!dataTable) return;\n",
              "\n",
              "          const docLinkHtml = 'Like what you see? Visit the ' +\n",
              "            '<a target=\"_blank\" href=https://colab.research.google.com/notebooks/data_table.ipynb>data table notebook</a>'\n",
              "            + ' to learn more about interactive tables.';\n",
              "          element.innerHTML = '';\n",
              "          dataTable['output_type'] = 'display_data';\n",
              "          await google.colab.output.renderOutput(dataTable, element);\n",
              "          const docLink = document.createElement('div');\n",
              "          docLink.innerHTML = docLinkHtml;\n",
              "          element.appendChild(docLink);\n",
              "        }\n",
              "      </script>\n",
              "    </div>\n",
              "  </div>\n",
              "  "
            ]
          },
          "metadata": {},
          "execution_count": 75
        }
      ],
      "source": [
        "# Melihat gambaran data user\n",
        "\n",
        "user.head()"
      ]
    },
    {
      "cell_type": "code",
      "execution_count": null,
      "metadata": {
        "execution": {
          "iopub.execute_input": "2021-10-27T02:47:57.476450Z",
          "iopub.status.busy": "2021-10-27T02:47:57.475978Z",
          "iopub.status.idle": "2021-10-27T02:47:57.500759Z",
          "shell.execute_reply": "2021-10-27T02:47:57.499622Z",
          "shell.execute_reply.started": "2021-10-27T02:47:57.476406Z"
        },
        "id": "fQ_CVdh34EL4",
        "outputId": "09959edc-8ecf-44ec-d005-ab4368a8ef94",
        "trusted": true,
        "colab": {
          "base_uri": "https://localhost:8080/",
          "height": 206
        }
      },
      "outputs": [
        {
          "output_type": "execute_result",
          "data": {
            "text/plain": [
              "     User_Id                   Location  Age\n",
              "83         1      Semarang, Jawa Tengah   20\n",
              "18         2         Bekasi, Jawa Barat   21\n",
              "345        3        Cirebon, Jawa Barat   23\n",
              "62         4         Bekasi, Jawa Barat   21\n",
              "63         5  Lampung, Sumatera Selatan   20"
            ],
            "text/html": [
              "\n",
              "  <div id=\"df-1e18cdf5-ed73-4312-ac9a-bf7e0993bb92\">\n",
              "    <div class=\"colab-df-container\">\n",
              "      <div>\n",
              "<style scoped>\n",
              "    .dataframe tbody tr th:only-of-type {\n",
              "        vertical-align: middle;\n",
              "    }\n",
              "\n",
              "    .dataframe tbody tr th {\n",
              "        vertical-align: top;\n",
              "    }\n",
              "\n",
              "    .dataframe thead th {\n",
              "        text-align: right;\n",
              "    }\n",
              "</style>\n",
              "<table border=\"1\" class=\"dataframe\">\n",
              "  <thead>\n",
              "    <tr style=\"text-align: right;\">\n",
              "      <th></th>\n",
              "      <th>User_Id</th>\n",
              "      <th>Location</th>\n",
              "      <th>Age</th>\n",
              "    </tr>\n",
              "  </thead>\n",
              "  <tbody>\n",
              "    <tr>\n",
              "      <th>83</th>\n",
              "      <td>1</td>\n",
              "      <td>Semarang, Jawa Tengah</td>\n",
              "      <td>20</td>\n",
              "    </tr>\n",
              "    <tr>\n",
              "      <th>18</th>\n",
              "      <td>2</td>\n",
              "      <td>Bekasi, Jawa Barat</td>\n",
              "      <td>21</td>\n",
              "    </tr>\n",
              "    <tr>\n",
              "      <th>345</th>\n",
              "      <td>3</td>\n",
              "      <td>Cirebon, Jawa Barat</td>\n",
              "      <td>23</td>\n",
              "    </tr>\n",
              "    <tr>\n",
              "      <th>62</th>\n",
              "      <td>4</td>\n",
              "      <td>Bekasi, Jawa Barat</td>\n",
              "      <td>21</td>\n",
              "    </tr>\n",
              "    <tr>\n",
              "      <th>63</th>\n",
              "      <td>5</td>\n",
              "      <td>Lampung, Sumatera Selatan</td>\n",
              "      <td>20</td>\n",
              "    </tr>\n",
              "  </tbody>\n",
              "</table>\n",
              "</div>\n",
              "      <button class=\"colab-df-convert\" onclick=\"convertToInteractive('df-1e18cdf5-ed73-4312-ac9a-bf7e0993bb92')\"\n",
              "              title=\"Convert this dataframe to an interactive table.\"\n",
              "              style=\"display:none;\">\n",
              "        \n",
              "  <svg xmlns=\"http://www.w3.org/2000/svg\" height=\"24px\"viewBox=\"0 0 24 24\"\n",
              "       width=\"24px\">\n",
              "    <path d=\"M0 0h24v24H0V0z\" fill=\"none\"/>\n",
              "    <path d=\"M18.56 5.44l.94 2.06.94-2.06 2.06-.94-2.06-.94-.94-2.06-.94 2.06-2.06.94zm-11 1L8.5 8.5l.94-2.06 2.06-.94-2.06-.94L8.5 2.5l-.94 2.06-2.06.94zm10 10l.94 2.06.94-2.06 2.06-.94-2.06-.94-.94-2.06-.94 2.06-2.06.94z\"/><path d=\"M17.41 7.96l-1.37-1.37c-.4-.4-.92-.59-1.43-.59-.52 0-1.04.2-1.43.59L10.3 9.45l-7.72 7.72c-.78.78-.78 2.05 0 2.83L4 21.41c.39.39.9.59 1.41.59.51 0 1.02-.2 1.41-.59l7.78-7.78 2.81-2.81c.8-.78.8-2.07 0-2.86zM5.41 20L4 18.59l7.72-7.72 1.47 1.35L5.41 20z\"/>\n",
              "  </svg>\n",
              "      </button>\n",
              "      \n",
              "  <style>\n",
              "    .colab-df-container {\n",
              "      display:flex;\n",
              "      flex-wrap:wrap;\n",
              "      gap: 12px;\n",
              "    }\n",
              "\n",
              "    .colab-df-convert {\n",
              "      background-color: #E8F0FE;\n",
              "      border: none;\n",
              "      border-radius: 50%;\n",
              "      cursor: pointer;\n",
              "      display: none;\n",
              "      fill: #1967D2;\n",
              "      height: 32px;\n",
              "      padding: 0 0 0 0;\n",
              "      width: 32px;\n",
              "    }\n",
              "\n",
              "    .colab-df-convert:hover {\n",
              "      background-color: #E2EBFA;\n",
              "      box-shadow: 0px 1px 2px rgba(60, 64, 67, 0.3), 0px 1px 3px 1px rgba(60, 64, 67, 0.15);\n",
              "      fill: #174EA6;\n",
              "    }\n",
              "\n",
              "    [theme=dark] .colab-df-convert {\n",
              "      background-color: #3B4455;\n",
              "      fill: #D2E3FC;\n",
              "    }\n",
              "\n",
              "    [theme=dark] .colab-df-convert:hover {\n",
              "      background-color: #434B5C;\n",
              "      box-shadow: 0px 1px 3px 1px rgba(0, 0, 0, 0.15);\n",
              "      filter: drop-shadow(0px 1px 2px rgba(0, 0, 0, 0.3));\n",
              "      fill: #FFFFFF;\n",
              "    }\n",
              "  </style>\n",
              "\n",
              "      <script>\n",
              "        const buttonEl =\n",
              "          document.querySelector('#df-1e18cdf5-ed73-4312-ac9a-bf7e0993bb92 button.colab-df-convert');\n",
              "        buttonEl.style.display =\n",
              "          google.colab.kernel.accessAllowed ? 'block' : 'none';\n",
              "\n",
              "        async function convertToInteractive(key) {\n",
              "          const element = document.querySelector('#df-1e18cdf5-ed73-4312-ac9a-bf7e0993bb92');\n",
              "          const dataTable =\n",
              "            await google.colab.kernel.invokeFunction('convertToInteractive',\n",
              "                                                     [key], {});\n",
              "          if (!dataTable) return;\n",
              "\n",
              "          const docLinkHtml = 'Like what you see? Visit the ' +\n",
              "            '<a target=\"_blank\" href=https://colab.research.google.com/notebooks/data_table.ipynb>data table notebook</a>'\n",
              "            + ' to learn more about interactive tables.';\n",
              "          element.innerHTML = '';\n",
              "          dataTable['output_type'] = 'display_data';\n",
              "          await google.colab.output.renderOutput(dataTable, element);\n",
              "          const docLink = document.createElement('div');\n",
              "          docLink.innerHTML = docLinkHtml;\n",
              "          element.appendChild(docLink);\n",
              "        }\n",
              "      </script>\n",
              "    </div>\n",
              "  </div>\n",
              "  "
            ]
          },
          "metadata": {},
          "execution_count": 76
        }
      ],
      "source": [
        "# Merubah data user agar hanya berisi user yang pernah megunjungi wisata di Kota Bandung\n",
        "\n",
        "user = pd.merge(user, rating[['User_Id']], how='right', on='User_Id').drop_duplicates().sort_values('User_Id')\n",
        "user.head()"
      ]
    },
    {
      "cell_type": "code",
      "execution_count": null,
      "metadata": {
        "execution": {
          "iopub.execute_input": "2021-10-27T02:47:57.504887Z",
          "iopub.status.busy": "2021-10-27T02:47:57.504058Z",
          "iopub.status.idle": "2021-10-27T02:47:57.511537Z",
          "shell.execute_reply": "2021-10-27T02:47:57.510675Z",
          "shell.execute_reply.started": "2021-10-27T02:47:57.504850Z"
        },
        "id": "BhoRngVgy_ZO",
        "outputId": "8813d3a8-159c-4871-de70-f6f445845773",
        "trusted": true,
        "colab": {
          "base_uri": "https://localhost:8080/"
        }
      },
      "outputs": [
        {
          "output_type": "execute_result",
          "data": {
            "text/plain": [
              "(300, 3)"
            ]
          },
          "metadata": {},
          "execution_count": 77
        }
      ],
      "source": [
        "# Melihat dataset user yang pernah memberi rating pada wisata di Kota Bandung\n",
        "\n",
        "user.shape"
      ]
    },
    {
      "cell_type": "markdown",
      "metadata": {
        "id": "VY-wWvMjt2kh"
      },
      "source": [
        "## 4. Eksplorasi Data"
      ]
    },
    {
      "cell_type": "code",
      "execution_count": null,
      "metadata": {
        "execution": {
          "iopub.execute_input": "2021-10-27T02:47:57.513112Z",
          "iopub.status.busy": "2021-10-27T02:47:57.512826Z",
          "iopub.status.idle": "2021-10-27T02:47:58.064185Z",
          "shell.execute_reply": "2021-10-27T02:47:58.063238Z",
          "shell.execute_reply.started": "2021-10-27T02:47:57.513084Z"
        },
        "id": "VU0VTqlLMhME",
        "outputId": "2d15794c-ecc4-4a5c-fe58-617d92207086",
        "trusted": true,
        "colab": {
          "base_uri": "https://localhost:8080/",
          "height": 253
        }
      },
      "outputs": [
        {
          "output_type": "error",
          "ename": "TypeError",
          "evalue": "ignored",
          "traceback": [
            "\u001b[0;31m---------------------------------------------------------------------------\u001b[0m",
            "\u001b[0;31mTypeError\u001b[0m                                 Traceback (most recent call last)",
            "\u001b[0;32m<ipython-input-78-9e065d09e1f7>\u001b[0m in \u001b[0;36m<cell line: 7>\u001b[0;34m()\u001b[0m\n\u001b[1;32m      5\u001b[0m \u001b[0;31m# Membuat visualisasi wisata dengan jumlah rating terbanyak\u001b[0m\u001b[0;34m\u001b[0m\u001b[0;34m\u001b[0m\u001b[0m\n\u001b[1;32m      6\u001b[0m \u001b[0mplt\u001b[0m\u001b[0;34m.\u001b[0m\u001b[0mfigure\u001b[0m\u001b[0;34m(\u001b[0m\u001b[0mfigsize\u001b[0m\u001b[0;34m=\u001b[0m\u001b[0;34m(\u001b[0m\u001b[0;36m8\u001b[0m\u001b[0;34m,\u001b[0m\u001b[0;36m5\u001b[0m\u001b[0;34m)\u001b[0m\u001b[0;34m)\u001b[0m\u001b[0;34m\u001b[0m\u001b[0;34m\u001b[0m\u001b[0m\n\u001b[0;32m----> 7\u001b[0;31m \u001b[0msns\u001b[0m\u001b[0;34m.\u001b[0m\u001b[0mbarplot\u001b[0m\u001b[0;34m(\u001b[0m\u001b[0;34m'Place_Id_x'\u001b[0m\u001b[0;34m,\u001b[0m \u001b[0;34m'Place_Name'\u001b[0m\u001b[0;34m,\u001b[0m \u001b[0mdata\u001b[0m\u001b[0;34m=\u001b[0m\u001b[0mtop_10\u001b[0m\u001b[0;34m)\u001b[0m\u001b[0;34m\u001b[0m\u001b[0;34m\u001b[0m\u001b[0m\n\u001b[0m\u001b[1;32m      8\u001b[0m \u001b[0mplt\u001b[0m\u001b[0;34m.\u001b[0m\u001b[0mtitle\u001b[0m\u001b[0;34m(\u001b[0m\u001b[0;34m'Jumlah Tempat Wisata dengan Rating Terbanyak'\u001b[0m\u001b[0;34m,\u001b[0m \u001b[0mpad\u001b[0m\u001b[0;34m=\u001b[0m\u001b[0;36m20\u001b[0m\u001b[0;34m)\u001b[0m\u001b[0;34m\u001b[0m\u001b[0;34m\u001b[0m\u001b[0m\n\u001b[1;32m      9\u001b[0m \u001b[0mplt\u001b[0m\u001b[0;34m.\u001b[0m\u001b[0mylabel\u001b[0m\u001b[0;34m(\u001b[0m\u001b[0;34m'Jumlah Rating'\u001b[0m\u001b[0;34m)\u001b[0m\u001b[0;34m\u001b[0m\u001b[0;34m\u001b[0m\u001b[0m\n",
            "\u001b[0;31mTypeError\u001b[0m: barplot() got multiple values for argument 'data'"
          ]
        },
        {
          "output_type": "display_data",
          "data": {
            "text/plain": [
              "<Figure size 800x500 with 0 Axes>"
            ]
          },
          "metadata": {}
        }
      ],
      "source": [
        "# Membuat dataframe berisi lokasi dengan jumlah rating terbanyak\n",
        "top_10 = rating['Place_Id'].value_counts().reset_index()[0:10]\n",
        "top_10 = pd.merge(top_10, place[['Place_Id','Place_Name']], how='left', left_on='index', right_on='Place_Id')\n",
        "\n",
        "# Membuat visualisasi wisata dengan jumlah rating terbanyak\n",
        "plt.figure(figsize=(8,5))\n",
        "sns.barplot('Place_Id_x', 'Place_Name', data=top_10)\n",
        "plt.title('Jumlah Tempat Wisata dengan Rating Terbanyak', pad=20)\n",
        "plt.ylabel('Jumlah Rating')\n",
        "plt.xlabel('Nama Lokasi')\n",
        "plt.show()"
      ]
    },
    {
      "cell_type": "code",
      "execution_count": null,
      "metadata": {
        "execution": {
          "iopub.execute_input": "2021-10-27T02:47:58.065660Z",
          "iopub.status.busy": "2021-10-27T02:47:58.065436Z",
          "iopub.status.idle": "2021-10-27T02:47:58.318334Z",
          "shell.execute_reply": "2021-10-27T02:47:58.317466Z",
          "shell.execute_reply.started": "2021-10-27T02:47:58.065634Z"
        },
        "id": "tPPihnSA6LS8",
        "outputId": "4c3b4cd9-0ee7-43a8-d6db-227ad0783dae",
        "trusted": true,
        "colab": {
          "base_uri": "https://localhost:8080/",
          "height": 500
        }
      },
      "outputs": [
        {
          "output_type": "display_data",
          "data": {
            "text/plain": [
              "<Figure size 640x480 with 1 Axes>"
            ],
            "image/png": "[encoded data removed]"
          },
          "metadata": {}
        }
      ],
      "source": [
        "# Membuat visualisasi jumlah kategori wisata di Kota Bandung\n",
        "\n",
        "sns.countplot(y='Category', data=place)\n",
        "plt.title('Perbandingan Jumlah Kategori Wisata', pad=20)\n",
        "plt.show()"
      ]
    },
    {
      "cell_type": "code",
      "execution_count": null,
      "metadata": {
        "execution": {
          "iopub.execute_input": "2021-10-27T02:47:58.319681Z",
          "iopub.status.busy": "2021-10-27T02:47:58.319440Z",
          "iopub.status.idle": "2021-10-27T02:47:58.534462Z",
          "shell.execute_reply": "2021-10-27T02:47:58.533558Z",
          "shell.execute_reply.started": "2021-10-27T02:47:58.319653Z"
        },
        "id": "Nr0chrAsLl01",
        "outputId": "17fc79e5-5201-4b95-ca27-3c5904560da7",
        "trusted": true,
        "colab": {
          "base_uri": "https://localhost:8080/",
          "height": 337
        }
      },
      "outputs": [
        {
          "output_type": "display_data",
          "data": {
            "text/plain": [
              "<Figure size 500x300 with 1 Axes>"
            ],
            "image/png": "[encoded data removed]"
          },
          "metadata": {}
        }
      ],
      "source": [
        "# Membuat visualisasi distribusi usia user\n",
        "\n",
        "plt.figure(figsize=(5,3))\n",
        "sns.boxplot(user['Age']);\n",
        "plt.title('Distribusi Usia User', pad=20)\n",
        "plt.show()"
      ]
    },
    {
      "cell_type": "code",
      "execution_count": null,
      "metadata": {
        "execution": {
          "iopub.execute_input": "2021-10-27T02:47:58.536645Z",
          "iopub.status.busy": "2021-10-27T02:47:58.536316Z",
          "iopub.status.idle": "2021-10-27T02:47:58.781186Z",
          "shell.execute_reply": "2021-10-27T02:47:58.780263Z",
          "shell.execute_reply.started": "2021-10-27T02:47:58.536602Z"
        },
        "id": "ZSHgC9UqSK3J",
        "outputId": "00d33b57-56ce-47ab-bbaf-4455dcfbb022",
        "trusted": true,
        "colab": {
          "base_uri": "https://localhost:8080/",
          "height": 337
        }
      },
      "outputs": [
        {
          "output_type": "display_data",
          "data": {
            "text/plain": [
              "<Figure size 700x300 with 1 Axes>"
            ],
            "image/png": "[encoded data removed]"
          },
          "metadata": {}
        }
      ],
      "source": [
        "# Membuat visualisasi distribusi harga masuk tempat wisata\n",
        "\n",
        "plt.figure(figsize=(7,3))\n",
        "sns.boxplot(place['Price'])\n",
        "plt.title('Distribusi Harga Masuk Wisata', pad=20)\n",
        "plt.show()"
      ]
    },
    {
      "cell_type": "code",
      "execution_count": null,
      "metadata": {
        "execution": {
          "iopub.execute_input": "2021-10-27T02:47:58.782713Z",
          "iopub.status.busy": "2021-10-27T02:47:58.782474Z",
          "iopub.status.idle": "2021-10-27T02:47:59.234796Z",
          "shell.execute_reply": "2021-10-27T02:47:59.234133Z",
          "shell.execute_reply.started": "2021-10-27T02:47:58.782684Z"
        },
        "id": "kGobMR32UHps",
        "outputId": "656a5c7d-f6d5-4c17-9a9d-379e1af6afc2",
        "trusted": true,
        "colab": {
          "base_uri": "https://localhost:8080/",
          "height": 573
        }
      },
      "outputs": [
        {
          "output_type": "display_data",
          "data": {
            "text/plain": [
              "<Figure size 800x600 with 1 Axes>"
            ],
            "image/png": "[encoded data removed]"
          },
          "metadata": {}
        }
      ],
      "source": [
        "# Memfilter asal kota dari user\n",
        "askot = user['Location'].apply(lambda x : x.split(',')[0])\n",
        "\n",
        "# Visualisasi asal kota dari user\n",
        "plt.figure(figsize=(8,6))\n",
        "sns.countplot(y=askot)\n",
        "plt.title('Jumlah Asal Kota dari User')\n",
        "plt.show()"
      ]
    },
    {
      "cell_type": "markdown",
      "metadata": {
        "id": "Af3XQ2miZaRH"
      },
      "source": [
        "## 5. Persiapan Data untuk Pemodelan"
      ]
    },
    {
      "cell_type": "markdown",
      "metadata": {
        "id": "JyAtGmZF2kqK"
      },
      "source": [
        "### 5.1. Membuat Salinan Data rating"
      ]
    },
    {
      "cell_type": "code",
      "execution_count": null,
      "metadata": {
        "execution": {
          "iopub.execute_input": "2021-10-27T02:47:59.236541Z",
          "iopub.status.busy": "2021-10-27T02:47:59.235827Z",
          "iopub.status.idle": "2021-10-27T02:47:59.246232Z",
          "shell.execute_reply": "2021-10-27T02:47:59.245278Z",
          "shell.execute_reply.started": "2021-10-27T02:47:59.236499Z"
        },
        "id": "n47SDsSXZdck",
        "outputId": "1c2c7d96-24fe-4e6b-cd5a-126e42d1af03",
        "trusted": true,
        "colab": {
          "base_uri": "https://localhost:8080/",
          "height": 206
        }
      },
      "outputs": [
        {
          "output_type": "execute_result",
          "data": {
            "text/plain": [
              "   User_Id  Place_Id  Place_Ratings\n",
              "0       36         1              4\n",
              "1       38         1              2\n",
              "2       64         1              2\n",
              "3       74         1              2\n",
              "4       86         1              4"
            ],
            "text/html": [
              "\n",
              "  <div id=\"df-765330ce-d44a-4067-903b-eefaaa137be4\">\n",
              "    <div class=\"colab-df-container\">\n",
              "      <div>\n",
              "<style scoped>\n",
              "    .dataframe tbody tr th:only-of-type {\n",
              "        vertical-align: middle;\n",
              "    }\n",
              "\n",
              "    .dataframe tbody tr th {\n",
              "        vertical-align: top;\n",
              "    }\n",
              "\n",
              "    .dataframe thead th {\n",
              "        text-align: right;\n",
              "    }\n",
              "</style>\n",
              "<table border=\"1\" class=\"dataframe\">\n",
              "  <thead>\n",
              "    <tr style=\"text-align: right;\">\n",
              "      <th></th>\n",
              "      <th>User_Id</th>\n",
              "      <th>Place_Id</th>\n",
              "      <th>Place_Ratings</th>\n",
              "    </tr>\n",
              "  </thead>\n",
              "  <tbody>\n",
              "    <tr>\n",
              "      <th>0</th>\n",
              "      <td>36</td>\n",
              "      <td>1</td>\n",
              "      <td>4</td>\n",
              "    </tr>\n",
              "    <tr>\n",
              "      <th>1</th>\n",
              "      <td>38</td>\n",
              "      <td>1</td>\n",
              "      <td>2</td>\n",
              "    </tr>\n",
              "    <tr>\n",
              "      <th>2</th>\n",
              "      <td>64</td>\n",
              "      <td>1</td>\n",
              "      <td>2</td>\n",
              "    </tr>\n",
              "    <tr>\n",
              "      <th>3</th>\n",
              "      <td>74</td>\n",
              "      <td>1</td>\n",
              "      <td>2</td>\n",
              "    </tr>\n",
              "    <tr>\n",
              "      <th>4</th>\n",
              "      <td>86</td>\n",
              "      <td>1</td>\n",
              "      <td>4</td>\n",
              "    </tr>\n",
              "  </tbody>\n",
              "</table>\n",
              "</div>\n",
              "      <button class=\"colab-df-convert\" onclick=\"convertToInteractive('df-765330ce-d44a-4067-903b-eefaaa137be4')\"\n",
              "              title=\"Convert this dataframe to an interactive table.\"\n",
              "              style=\"display:none;\">\n",
              "        \n",
              "  <svg xmlns=\"http://www.w3.org/2000/svg\" height=\"24px\"viewBox=\"0 0 24 24\"\n",
              "       width=\"24px\">\n",
              "    <path d=\"M0 0h24v24H0V0z\" fill=\"none\"/>\n",
              "    <path d=\"M18.56 5.44l.94 2.06.94-2.06 2.06-.94-2.06-.94-.94-2.06-.94 2.06-2.06.94zm-11 1L8.5 8.5l.94-2.06 2.06-.94-2.06-.94L8.5 2.5l-.94 2.06-2.06.94zm10 10l.94 2.06.94-2.06 2.06-.94-2.06-.94-.94-2.06-.94 2.06-2.06.94z\"/><path d=\"M17.41 7.96l-1.37-1.37c-.4-.4-.92-.59-1.43-.59-.52 0-1.04.2-1.43.59L10.3 9.45l-7.72 7.72c-.78.78-.78 2.05 0 2.83L4 21.41c.39.39.9.59 1.41.59.51 0 1.02-.2 1.41-.59l7.78-7.78 2.81-2.81c.8-.78.8-2.07 0-2.86zM5.41 20L4 18.59l7.72-7.72 1.47 1.35L5.41 20z\"/>\n",
              "  </svg>\n",
              "      </button>\n",
              "      \n",
              "  <style>\n",
              "    .colab-df-container {\n",
              "      display:flex;\n",
              "      flex-wrap:wrap;\n",
              "      gap: 12px;\n",
              "    }\n",
              "\n",
              "    .colab-df-convert {\n",
              "      background-color: #E8F0FE;\n",
              "      border: none;\n",
              "      border-radius: 50%;\n",
              "      cursor: pointer;\n",
              "      display: none;\n",
              "      fill: #1967D2;\n",
              "      height: 32px;\n",
              "      padding: 0 0 0 0;\n",
              "      width: 32px;\n",
              "    }\n",
              "\n",
              "    .colab-df-convert:hover {\n",
              "      background-color: #E2EBFA;\n",
              "      box-shadow: 0px 1px 2px rgba(60, 64, 67, 0.3), 0px 1px 3px 1px rgba(60, 64, 67, 0.15);\n",
              "      fill: #174EA6;\n",
              "    }\n",
              "\n",
              "    [theme=dark] .colab-df-convert {\n",
              "      background-color: #3B4455;\n",
              "      fill: #D2E3FC;\n",
              "    }\n",
              "\n",
              "    [theme=dark] .colab-df-convert:hover {\n",
              "      background-color: #434B5C;\n",
              "      box-shadow: 0px 1px 3px 1px rgba(0, 0, 0, 0.15);\n",
              "      filter: drop-shadow(0px 1px 2px rgba(0, 0, 0, 0.3));\n",
              "      fill: #FFFFFF;\n",
              "    }\n",
              "  </style>\n",
              "\n",
              "      <script>\n",
              "        const buttonEl =\n",
              "          document.querySelector('#df-765330ce-d44a-4067-903b-eefaaa137be4 button.colab-df-convert');\n",
              "        buttonEl.style.display =\n",
              "          google.colab.kernel.accessAllowed ? 'block' : 'none';\n",
              "\n",
              "        async function convertToInteractive(key) {\n",
              "          const element = document.querySelector('#df-765330ce-d44a-4067-903b-eefaaa137be4');\n",
              "          const dataTable =\n",
              "            await google.colab.kernel.invokeFunction('convertToInteractive',\n",
              "                                                     [key], {});\n",
              "          if (!dataTable) return;\n",
              "\n",
              "          const docLinkHtml = 'Like what you see? Visit the ' +\n",
              "            '<a target=\"_blank\" href=https://colab.research.google.com/notebooks/data_table.ipynb>data table notebook</a>'\n",
              "            + ' to learn more about interactive tables.';\n",
              "          element.innerHTML = '';\n",
              "          dataTable['output_type'] = 'display_data';\n",
              "          await google.colab.output.renderOutput(dataTable, element);\n",
              "          const docLink = document.createElement('div');\n",
              "          docLink.innerHTML = docLinkHtml;\n",
              "          element.appendChild(docLink);\n",
              "        }\n",
              "      </script>\n",
              "    </div>\n",
              "  </div>\n",
              "  "
            ]
          },
          "metadata": {},
          "execution_count": 85
        }
      ],
      "source": [
        "# Membaca dataset untuk dilakukan encoding\n",
        " \n",
        "df = rating.copy()\n",
        "df.head()"
      ]
    },
    {
      "cell_type": "markdown",
      "metadata": {
        "id": "-h8alpCZ3JDS"
      },
      "source": [
        "### 5.2. Melakukan Encoding"
      ]
    },
    {
      "cell_type": "markdown",
      "metadata": {
        "id": "Wrl4fNfv522X"
      },
      "source": [
        "#### 5.2.1. Membuat Fungsi untuk Melakukan Encoding"
      ]
    },
    {
      "cell_type": "code",
      "execution_count": null,
      "metadata": {
        "execution": {
          "iopub.execute_input": "2021-10-27T02:47:59.247931Z",
          "iopub.status.busy": "2021-10-27T02:47:59.247692Z",
          "iopub.status.idle": "2021-10-27T02:47:59.257812Z",
          "shell.execute_reply": "2021-10-27T02:47:59.257016Z",
          "shell.execute_reply.started": "2021-10-27T02:47:59.247902Z"
        },
        "id": "O1xFj77E3OnN",
        "trusted": true
      },
      "outputs": [],
      "source": [
        "def dict_encoder(col, data=df):\n",
        "\n",
        "  # Mengubah kolom suatu dataframe menjadi list tanpa nilai yang sama\n",
        "  unique_val = data[col].unique().tolist()\n",
        "\n",
        "  # Melakukan encoding value kolom suatu dataframe ke angka\n",
        "  val_to_val_encoded = {x: i for i, x in enumerate(unique_val)}\n",
        "\n",
        "  # Melakukan proses encoding angka ke value dari kolom suatu dataframe\n",
        "  val_encoded_to_val = {i: x for i, x in enumerate(unique_val)}\n",
        "  return val_to_val_encoded, val_encoded_to_val"
      ]
    },
    {
      "cell_type": "markdown",
      "metadata": {
        "id": "OWac6MRz0nhV"
      },
      "source": [
        "#### 5.2.2. Encoding dan Mapping Kolom User"
      ]
    },
    {
      "cell_type": "code",
      "execution_count": null,
      "metadata": {
        "execution": {
          "iopub.execute_input": "2021-10-27T02:47:59.259621Z",
          "iopub.status.busy": "2021-10-27T02:47:59.259205Z",
          "iopub.status.idle": "2021-10-27T02:47:59.269938Z",
          "shell.execute_reply": "2021-10-27T02:47:59.268985Z",
          "shell.execute_reply.started": "2021-10-27T02:47:59.259571Z"
        },
        "id": "aUp25qsF4Tkp",
        "trusted": true
      },
      "outputs": [],
      "source": [
        "# Encoding User_Id\n",
        "user_to_user_encoded, user_encoded_to_user = dict_encoder('User_Id')\n",
        "\n",
        "# Mapping User_Id ke dataframe\n",
        "df['user'] = df['User_Id'].map(user_to_user_encoded)"
      ]
    },
    {
      "cell_type": "markdown",
      "metadata": {
        "id": "Ff1BSl4H5aMx"
      },
      "source": [
        "#### 5.2.3. Encoding dan Mapping Kolom Place"
      ]
    },
    {
      "cell_type": "code",
      "execution_count": null,
      "metadata": {
        "execution": {
          "iopub.execute_input": "2021-10-27T02:47:59.272532Z",
          "iopub.status.busy": "2021-10-27T02:47:59.271886Z",
          "iopub.status.idle": "2021-10-27T02:47:59.284292Z",
          "shell.execute_reply": "2021-10-27T02:47:59.283510Z",
          "shell.execute_reply.started": "2021-10-27T02:47:59.272451Z"
        },
        "id": "_td4s8-e5hYA",
        "trusted": true
      },
      "outputs": [],
      "source": [
        "# Encoding Place_Id\n",
        "place_to_place_encoded, place_encoded_to_place = dict_encoder('Place_Id')\n",
        "\n",
        "# Mapping Place_Id ke dataframe place\n",
        "df['place'] = df['Place_Id'].map(place_to_place_encoded)"
      ]
    },
    {
      "cell_type": "markdown",
      "metadata": {
        "id": "JyphV9zl60Bw"
      },
      "source": [
        "### 5.3. Melihat Gambaran Data untuk Pemodelan"
      ]
    },
    {
      "cell_type": "code",
      "execution_count": null,
      "metadata": {
        "execution": {
          "iopub.execute_input": "2021-10-27T02:47:59.286203Z",
          "iopub.status.busy": "2021-10-27T02:47:59.285323Z",
          "iopub.status.idle": "2021-10-27T02:47:59.296910Z",
          "shell.execute_reply": "2021-10-27T02:47:59.296035Z",
          "shell.execute_reply.started": "2021-10-27T02:47:59.286163Z"
        },
        "id": "aRhkdzsPaNUJ",
        "outputId": "7e7eec7e-3481-4194-886a-1c35e8243c5b",
        "trusted": true,
        "colab": {
          "base_uri": "https://localhost:8080/"
        }
      },
      "outputs": [
        {
          "output_type": "stream",
          "name": "stdout",
          "text": [
            "Number of User: 300, Number of Place: 437, Min Rating: 1.0, Max Rating: 5.0\n"
          ]
        }
      ],
      "source": [
        "# Mendapatkan jumlah user dan place\n",
        "num_users, num_place = len(user_to_user_encoded), len(place_to_place_encoded)\n",
        " \n",
        "# Mengubah rating menjadi nilai float\n",
        "df['Place_Ratings'] = df['Place_Ratings'].values.astype(np.float32)\n",
        " \n",
        "# Mendapatkan nilai minimum dan maksimum rating\n",
        "min_rating, max_rating = min(df['Place_Ratings']), max(df['Place_Ratings'])\n",
        " \n",
        "print(f'Number of User: {num_users}, Number of Place: {num_place}, Min Rating: {min_rating}, Max Rating: {max_rating}')"
      ]
    },
    {
      "cell_type": "code",
      "execution_count": null,
      "metadata": {
        "execution": {
          "iopub.execute_input": "2021-10-27T02:47:59.298997Z",
          "iopub.status.busy": "2021-10-27T02:47:59.298320Z",
          "iopub.status.idle": "2021-10-27T02:47:59.315306Z",
          "shell.execute_reply": "2021-10-27T02:47:59.314429Z",
          "shell.execute_reply.started": "2021-10-27T02:47:59.298949Z"
        },
        "id": "dLJWzgRyZ-qZ",
        "outputId": "d510340e-5543-49b1-e7a7-99a9d01ec355",
        "trusted": true,
        "colab": {
          "base_uri": "https://localhost:8080/",
          "height": 112
        }
      },
      "outputs": [
        {
          "output_type": "execute_result",
          "data": {
            "text/plain": [
              "      User_Id  Place_Id  Place_Ratings  user  place\n",
              "6252      203       274            2.0    36    273\n",
              "4684      126       206            5.0   112    205"
            ],
            "text/html": [
              "\n",
              "  <div id=\"df-3e095949-24d2-4963-9aaf-9f6f157bf5c1\">\n",
              "    <div class=\"colab-df-container\">\n",
              "      <div>\n",
              "<style scoped>\n",
              "    .dataframe tbody tr th:only-of-type {\n",
              "        vertical-align: middle;\n",
              "    }\n",
              "\n",
              "    .dataframe tbody tr th {\n",
              "        vertical-align: top;\n",
              "    }\n",
              "\n",
              "    .dataframe thead th {\n",
              "        text-align: right;\n",
              "    }\n",
              "</style>\n",
              "<table border=\"1\" class=\"dataframe\">\n",
              "  <thead>\n",
              "    <tr style=\"text-align: right;\">\n",
              "      <th></th>\n",
              "      <th>User_Id</th>\n",
              "      <th>Place_Id</th>\n",
              "      <th>Place_Ratings</th>\n",
              "      <th>user</th>\n",
              "      <th>place</th>\n",
              "    </tr>\n",
              "  </thead>\n",
              "  <tbody>\n",
              "    <tr>\n",
              "      <th>6252</th>\n",
              "      <td>203</td>\n",
              "      <td>274</td>\n",
              "      <td>2.0</td>\n",
              "      <td>36</td>\n",
              "      <td>273</td>\n",
              "    </tr>\n",
              "    <tr>\n",
              "      <th>4684</th>\n",
              "      <td>126</td>\n",
              "      <td>206</td>\n",
              "      <td>5.0</td>\n",
              "      <td>112</td>\n",
              "      <td>205</td>\n",
              "    </tr>\n",
              "  </tbody>\n",
              "</table>\n",
              "</div>\n",
              "      <button class=\"colab-df-convert\" onclick=\"convertToInteractive('df-3e095949-24d2-4963-9aaf-9f6f157bf5c1')\"\n",
              "              title=\"Convert this dataframe to an interactive table.\"\n",
              "              style=\"display:none;\">\n",
              "        \n",
              "  <svg xmlns=\"http://www.w3.org/2000/svg\" height=\"24px\"viewBox=\"0 0 24 24\"\n",
              "       width=\"24px\">\n",
              "    <path d=\"M0 0h24v24H0V0z\" fill=\"none\"/>\n",
              "    <path d=\"M18.56 5.44l.94 2.06.94-2.06 2.06-.94-2.06-.94-.94-2.06-.94 2.06-2.06.94zm-11 1L8.5 8.5l.94-2.06 2.06-.94-2.06-.94L8.5 2.5l-.94 2.06-2.06.94zm10 10l.94 2.06.94-2.06 2.06-.94-2.06-.94-.94-2.06-.94 2.06-2.06.94z\"/><path d=\"M17.41 7.96l-1.37-1.37c-.4-.4-.92-.59-1.43-.59-.52 0-1.04.2-1.43.59L10.3 9.45l-7.72 7.72c-.78.78-.78 2.05 0 2.83L4 21.41c.39.39.9.59 1.41.59.51 0 1.02-.2 1.41-.59l7.78-7.78 2.81-2.81c.8-.78.8-2.07 0-2.86zM5.41 20L4 18.59l7.72-7.72 1.47 1.35L5.41 20z\"/>\n",
              "  </svg>\n",
              "      </button>\n",
              "      \n",
              "  <style>\n",
              "    .colab-df-container {\n",
              "      display:flex;\n",
              "      flex-wrap:wrap;\n",
              "      gap: 12px;\n",
              "    }\n",
              "\n",
              "    .colab-df-convert {\n",
              "      background-color: #E8F0FE;\n",
              "      border: none;\n",
              "      border-radius: 50%;\n",
              "      cursor: pointer;\n",
              "      display: none;\n",
              "      fill: #1967D2;\n",
              "      height: 32px;\n",
              "      padding: 0 0 0 0;\n",
              "      width: 32px;\n",
              "    }\n",
              "\n",
              "    .colab-df-convert:hover {\n",
              "      background-color: #E2EBFA;\n",
              "      box-shadow: 0px 1px 2px rgba(60, 64, 67, 0.3), 0px 1px 3px 1px rgba(60, 64, 67, 0.15);\n",
              "      fill: #174EA6;\n",
              "    }\n",
              "\n",
              "    [theme=dark] .colab-df-convert {\n",
              "      background-color: #3B4455;\n",
              "      fill: #D2E3FC;\n",
              "    }\n",
              "\n",
              "    [theme=dark] .colab-df-convert:hover {\n",
              "      background-color: #434B5C;\n",
              "      box-shadow: 0px 1px 3px 1px rgba(0, 0, 0, 0.15);\n",
              "      filter: drop-shadow(0px 1px 2px rgba(0, 0, 0, 0.3));\n",
              "      fill: #FFFFFF;\n",
              "    }\n",
              "  </style>\n",
              "\n",
              "      <script>\n",
              "        const buttonEl =\n",
              "          document.querySelector('#df-3e095949-24d2-4963-9aaf-9f6f157bf5c1 button.colab-df-convert');\n",
              "        buttonEl.style.display =\n",
              "          google.colab.kernel.accessAllowed ? 'block' : 'none';\n",
              "\n",
              "        async function convertToInteractive(key) {\n",
              "          const element = document.querySelector('#df-3e095949-24d2-4963-9aaf-9f6f157bf5c1');\n",
              "          const dataTable =\n",
              "            await google.colab.kernel.invokeFunction('convertToInteractive',\n",
              "                                                     [key], {});\n",
              "          if (!dataTable) return;\n",
              "\n",
              "          const docLinkHtml = 'Like what you see? Visit the ' +\n",
              "            '<a target=\"_blank\" href=https://colab.research.google.com/notebooks/data_table.ipynb>data table notebook</a>'\n",
              "            + ' to learn more about interactive tables.';\n",
              "          element.innerHTML = '';\n",
              "          dataTable['output_type'] = 'display_data';\n",
              "          await google.colab.output.renderOutput(dataTable, element);\n",
              "          const docLink = document.createElement('div');\n",
              "          docLink.innerHTML = docLinkHtml;\n",
              "          element.appendChild(docLink);\n",
              "        }\n",
              "      </script>\n",
              "    </div>\n",
              "  </div>\n",
              "  "
            ]
          },
          "metadata": {},
          "execution_count": 90
        }
      ],
      "source": [
        "# Mengacak dataset\n",
        "df = df.sample(frac=1, random_state=42)\n",
        "df.head(2)"
      ]
    },
    {
      "cell_type": "markdown",
      "metadata": {
        "id": "w84bLhXK1ZmR"
      },
      "source": [
        "## 6. Pemodelan Machine Learning dengan RecommenderNet"
      ]
    },
    {
      "cell_type": "markdown",
      "metadata": {
        "id": "fFHmau_V1nym"
      },
      "source": [
        "### 6.1. Membagi data train dan test"
      ]
    },
    {
      "cell_type": "code",
      "execution_count": null,
      "metadata": {
        "execution": {
          "iopub.execute_input": "2021-10-27T02:47:59.316732Z",
          "iopub.status.busy": "2021-10-27T02:47:59.316464Z",
          "iopub.status.idle": "2021-10-27T02:47:59.327092Z",
          "shell.execute_reply": "2021-10-27T02:47:59.326242Z",
          "shell.execute_reply.started": "2021-10-27T02:47:59.316702Z"
        },
        "id": "5ke4UQfBZ_SX",
        "trusted": true
      },
      "outputs": [],
      "source": [
        "# Membuat variabel x untuk mencocokkan data user dan place menjadi satu value\n",
        "x = df[['user', 'place']].values\n",
        " \n",
        "# Membuat variabel y untuk membuat rating dari hasil \n",
        "y = df['Place_Ratings'].apply(lambda x: (x - min_rating) / (max_rating - min_rating)).values\n",
        " \n",
        "# Membagi menjadi 80% data train dan 20% data validasi\n",
        "train_indices = int(0.8 * df.shape[0])\n",
        "x_train, x_val, y_train, y_val = (\n",
        "    x[:train_indices],\n",
        "    x[train_indices:],\n",
        "    y[:train_indices],\n",
        "    y[train_indices:]\n",
        ")"
      ]
    },
    {
      "cell_type": "markdown",
      "metadata": {
        "id": "SElD8TDB1744"
      },
      "source": [
        "### 6.2. Menyiapkan Model"
      ]
    },
    {
      "cell_type": "markdown",
      "metadata": {
        "id": "63cJPBop8uN1"
      },
      "source": [
        "#### 6.2.1. Inisialisasi Fungsi"
      ]
    },
    {
      "cell_type": "code",
      "execution_count": null,
      "metadata": {
        "execution": {
          "iopub.execute_input": "2021-10-27T02:47:59.332048Z",
          "iopub.status.busy": "2021-10-27T02:47:59.331791Z",
          "iopub.status.idle": "2021-10-27T02:47:59.342759Z",
          "shell.execute_reply": "2021-10-27T02:47:59.341803Z",
          "shell.execute_reply.started": "2021-10-27T02:47:59.332022Z"
        },
        "id": "CuYEmQa3avO8",
        "trusted": true
      },
      "outputs": [],
      "source": [
        "class RecommenderNet(tf.keras.Model):\n",
        " \n",
        "  # Insialisasi fungsi\n",
        "  def __init__(self, num_users, num_places, embedding_size, **kwargs):\n",
        "    super(RecommenderNet, self).__init__(**kwargs)\n",
        "    self.num_users = num_users\n",
        "    self.num_places = num_places\n",
        "    self.embedding_size = embedding_size\n",
        "    self.user_embedding = layers.Embedding( # layer embedding user\n",
        "        num_users,\n",
        "        embedding_size,\n",
        "        embeddings_initializer = 'he_normal',\n",
        "        embeddings_regularizer = keras.regularizers.l2(1e-6)\n",
        "    )\n",
        "    self.user_bias = layers.Embedding(num_users, 1) # layer embedding user bias\n",
        "    self.places_embedding = layers.Embedding( # layer embeddings places\n",
        "        num_places,\n",
        "        embedding_size,\n",
        "        embeddings_initializer = 'he_normal',\n",
        "        embeddings_regularizer = keras.regularizers.l2(1e-6)\n",
        "    )\n",
        "    self.places_bias = layers.Embedding(num_places, 1) # layer embedding places bias\n",
        " \n",
        "  def call(self, inputs):\n",
        "    user_vector = self.user_embedding(inputs[:,0]) # memanggil layer embedding 1\n",
        "    user_bias = self.user_bias(inputs[:, 0]) # memanggil layer embedding 2\n",
        "    places_vector = self.places_embedding(inputs[:, 1]) # memanggil layer embedding 3\n",
        "    places_bias = self.places_bias(inputs[:, 1]) # memanggil layer embedding 4\n",
        " \n",
        "    dot_user_places = tf.tensordot(user_vector, places_vector, 2) \n",
        " \n",
        "    x = dot_user_places + user_bias + places_bias\n",
        "    \n",
        "    return tf.nn.sigmoid(x) # activation sigmoid"
      ]
    },
    {
      "cell_type": "markdown",
      "metadata": {
        "id": "Mi9E6U3V9HLU"
      },
      "source": [
        "#### 6.2.2. Inisialisasi Model"
      ]
    },
    {
      "cell_type": "code",
      "execution_count": null,
      "metadata": {
        "execution": {
          "iopub.execute_input": "2021-10-27T02:47:59.344792Z",
          "iopub.status.busy": "2021-10-27T02:47:59.344419Z",
          "iopub.status.idle": "2021-10-27T02:47:59.441879Z",
          "shell.execute_reply": "2021-10-27T02:47:59.441011Z",
          "shell.execute_reply.started": "2021-10-27T02:47:59.344761Z"
        },
        "id": "Vuj1NPJoa0Gt",
        "trusted": true
      },
      "outputs": [],
      "source": [
        "model = RecommenderNet(num_users, num_place, 50) # inisialisasi model\n",
        " \n",
        "# model compile\n",
        "model.compile(\n",
        "    loss = tf.keras.losses.BinaryCrossentropy(),\n",
        "    optimizer = keras.optimizers.Adam(learning_rate=0.0004),\n",
        "    metrics=[tf.keras.metrics.RootMeanSquaredError()]\n",
        ")"
      ]
    },
    {
      "cell_type": "markdown",
      "metadata": {
        "id": "76Kvt1gJ-fuV"
      },
      "source": [
        "#### 6.2.2. Inisialisasi Callbacks"
      ]
    },
    {
      "cell_type": "code",
      "execution_count": null,
      "metadata": {
        "execution": {
          "iopub.execute_input": "2021-10-27T02:47:59.443216Z",
          "iopub.status.busy": "2021-10-27T02:47:59.442970Z",
          "iopub.status.idle": "2021-10-27T02:47:59.449512Z",
          "shell.execute_reply": "2021-10-27T02:47:59.448376Z",
          "shell.execute_reply.started": "2021-10-27T02:47:59.443177Z"
        },
        "id": "_mkG8hVb-i7R",
        "trusted": true
      },
      "outputs": [],
      "source": [
        " class myCallback(tf.keras.callbacks.Callback):\n",
        "  def on_epoch_end(self, epoch, logs={}):\n",
        "    if(logs.get('val_root_mean_squared_error')<0.25):\n",
        "      print('Lapor! Metriks validasi sudah sesuai harapan')\n",
        "      self.model.stop_training = True"
      ]
    },
    {
      "cell_type": "markdown",
      "metadata": {
        "id": "kCvTLfOA9Pa5"
      },
      "source": [
        "#### 6.2.3. Proses Training"
      ]
    },
    {
      "cell_type": "code",
      "execution_count": null,
      "metadata": {
        "execution": {
          "iopub.execute_input": "2021-10-27T02:47:59.452284Z",
          "iopub.status.busy": "2021-10-27T02:47:59.451273Z",
          "iopub.status.idle": "2021-10-27T02:48:17.170723Z",
          "shell.execute_reply": "2021-10-27T02:48:17.169906Z",
          "shell.execute_reply.started": "2021-10-27T02:47:59.452166Z"
        },
        "id": "Fi9h5xfWa3NB",
        "outputId": "773a6303-e67e-4733-b1cf-e54282fac663",
        "trusted": true,
        "colab": {
          "base_uri": "https://localhost:8080/"
        }
      },
      "outputs": [
        {
          "output_type": "stream",
          "name": "stdout",
          "text": [
            "Epoch 1/100\n",
            "250/250 [==============================] - 2s 4ms/step - loss: 0.6976 - root_mean_squared_error: 0.3486 - val_loss: 0.6965 - val_root_mean_squared_error: 0.3466\n",
            "Epoch 2/100\n",
            "250/250 [==============================] - 1s 4ms/step - loss: 0.6982 - root_mean_squared_error: 0.3490 - val_loss: 0.6964 - val_root_mean_squared_error: 0.3466\n",
            "Epoch 3/100\n",
            "250/250 [==============================] - 3s 13ms/step - loss: 0.6948 - root_mean_squared_error: 0.3466 - val_loss: 0.6961 - val_root_mean_squared_error: 0.3463\n",
            "Epoch 4/100\n",
            "250/250 [==============================] - 1s 3ms/step - loss: 0.6936 - root_mean_squared_error: 0.3458 - val_loss: 0.6958 - val_root_mean_squared_error: 0.3461\n",
            "Epoch 5/100\n",
            "250/250 [==============================] - 1s 3ms/step - loss: 0.6937 - root_mean_squared_error: 0.3458 - val_loss: 0.6954 - val_root_mean_squared_error: 0.3458\n",
            "Epoch 6/100\n",
            "250/250 [==============================] - 1s 3ms/step - loss: 0.6908 - root_mean_squared_error: 0.3438 - val_loss: 0.6953 - val_root_mean_squared_error: 0.3458\n",
            "Epoch 7/100\n",
            "250/250 [==============================] - 1s 3ms/step - loss: 0.6889 - root_mean_squared_error: 0.3424 - val_loss: 0.6955 - val_root_mean_squared_error: 0.3459\n",
            "Epoch 8/100\n",
            "250/250 [==============================] - 1s 3ms/step - loss: 0.6885 - root_mean_squared_error: 0.3421 - val_loss: 0.6952 - val_root_mean_squared_error: 0.3457\n",
            "Epoch 9/100\n",
            "250/250 [==============================] - 1s 3ms/step - loss: 0.6888 - root_mean_squared_error: 0.3423 - val_loss: 0.6952 - val_root_mean_squared_error: 0.3457\n",
            "Epoch 10/100\n",
            "250/250 [==============================] - 1s 3ms/step - loss: 0.6887 - root_mean_squared_error: 0.3423 - val_loss: 0.6953 - val_root_mean_squared_error: 0.3458\n",
            "Epoch 11/100\n",
            "250/250 [==============================] - 1s 3ms/step - loss: 0.6851 - root_mean_squared_error: 0.3396 - val_loss: 0.6956 - val_root_mean_squared_error: 0.3460\n",
            "Epoch 12/100\n",
            "250/250 [==============================] - 1s 3ms/step - loss: 0.6856 - root_mean_squared_error: 0.3400 - val_loss: 0.6957 - val_root_mean_squared_error: 0.3461\n",
            "Epoch 13/100\n",
            "250/250 [==============================] - 1s 3ms/step - loss: 0.6838 - root_mean_squared_error: 0.3387 - val_loss: 0.6963 - val_root_mean_squared_error: 0.3465\n",
            "Epoch 14/100\n",
            "250/250 [==============================] - 1s 3ms/step - loss: 0.6843 - root_mean_squared_error: 0.3391 - val_loss: 0.6965 - val_root_mean_squared_error: 0.3466\n",
            "Epoch 15/100\n",
            "250/250 [==============================] - 1s 3ms/step - loss: 0.6829 - root_mean_squared_error: 0.3381 - val_loss: 0.6964 - val_root_mean_squared_error: 0.3465\n",
            "Epoch 16/100\n",
            "250/250 [==============================] - 1s 3ms/step - loss: 0.6824 - root_mean_squared_error: 0.3377 - val_loss: 0.6962 - val_root_mean_squared_error: 0.3464\n",
            "Epoch 17/100\n",
            "250/250 [==============================] - 1s 4ms/step - loss: 0.6811 - root_mean_squared_error: 0.3368 - val_loss: 0.6960 - val_root_mean_squared_error: 0.3463\n",
            "Epoch 18/100\n",
            "250/250 [==============================] - 1s 5ms/step - loss: 0.6792 - root_mean_squared_error: 0.3354 - val_loss: 0.6961 - val_root_mean_squared_error: 0.3463\n",
            "Epoch 19/100\n",
            "250/250 [==============================] - 1s 4ms/step - loss: 0.6799 - root_mean_squared_error: 0.3359 - val_loss: 0.6968 - val_root_mean_squared_error: 0.3468\n",
            "Epoch 20/100\n",
            "250/250 [==============================] - 1s 3ms/step - loss: 0.6783 - root_mean_squared_error: 0.3347 - val_loss: 0.6972 - val_root_mean_squared_error: 0.3471\n",
            "Epoch 21/100\n",
            "250/250 [==============================] - 1s 3ms/step - loss: 0.6773 - root_mean_squared_error: 0.3340 - val_loss: 0.6973 - val_root_mean_squared_error: 0.3472\n",
            "Epoch 22/100\n",
            "250/250 [==============================] - 1s 3ms/step - loss: 0.6780 - root_mean_squared_error: 0.3345 - val_loss: 0.6977 - val_root_mean_squared_error: 0.3474\n",
            "Epoch 23/100\n",
            "250/250 [==============================] - 1s 3ms/step - loss: 0.6758 - root_mean_squared_error: 0.3329 - val_loss: 0.6979 - val_root_mean_squared_error: 0.3475\n",
            "Epoch 24/100\n",
            "250/250 [==============================] - 1s 3ms/step - loss: 0.6756 - root_mean_squared_error: 0.3327 - val_loss: 0.6977 - val_root_mean_squared_error: 0.3475\n",
            "Epoch 25/100\n",
            "250/250 [==============================] - 1s 3ms/step - loss: 0.6745 - root_mean_squared_error: 0.3319 - val_loss: 0.6979 - val_root_mean_squared_error: 0.3476\n",
            "Epoch 26/100\n",
            "250/250 [==============================] - 1s 3ms/step - loss: 0.6756 - root_mean_squared_error: 0.3328 - val_loss: 0.6982 - val_root_mean_squared_error: 0.3478\n",
            "Epoch 27/100\n",
            "250/250 [==============================] - 1s 6ms/step - loss: 0.6751 - root_mean_squared_error: 0.3324 - val_loss: 0.6981 - val_root_mean_squared_error: 0.3478\n",
            "Epoch 28/100\n",
            "250/250 [==============================] - 1s 5ms/step - loss: 0.6748 - root_mean_squared_error: 0.3322 - val_loss: 0.6981 - val_root_mean_squared_error: 0.3477\n",
            "Epoch 29/100\n",
            "250/250 [==============================] - 1s 5ms/step - loss: 0.6728 - root_mean_squared_error: 0.3307 - val_loss: 0.6988 - val_root_mean_squared_error: 0.3482\n",
            "Epoch 30/100\n",
            "250/250 [==============================] - 2s 8ms/step - loss: 0.6742 - root_mean_squared_error: 0.3317 - val_loss: 0.6987 - val_root_mean_squared_error: 0.3482\n",
            "Epoch 31/100\n",
            "250/250 [==============================] - 2s 7ms/step - loss: 0.6724 - root_mean_squared_error: 0.3304 - val_loss: 0.6989 - val_root_mean_squared_error: 0.3482\n",
            "Epoch 32/100\n",
            "250/250 [==============================] - 1s 4ms/step - loss: 0.6730 - root_mean_squared_error: 0.3309 - val_loss: 0.6991 - val_root_mean_squared_error: 0.3484\n",
            "Epoch 33/100\n",
            "250/250 [==============================] - 1s 3ms/step - loss: 0.6729 - root_mean_squared_error: 0.3308 - val_loss: 0.6993 - val_root_mean_squared_error: 0.3485\n",
            "Epoch 34/100\n",
            "250/250 [==============================] - 1s 3ms/step - loss: 0.6719 - root_mean_squared_error: 0.3300 - val_loss: 0.6994 - val_root_mean_squared_error: 0.3486\n",
            "Epoch 35/100\n",
            "250/250 [==============================] - 1s 3ms/step - loss: 0.6729 - root_mean_squared_error: 0.3308 - val_loss: 0.6998 - val_root_mean_squared_error: 0.3489\n",
            "Epoch 36/100\n",
            "250/250 [==============================] - 1s 3ms/step - loss: 0.6714 - root_mean_squared_error: 0.3297 - val_loss: 0.6998 - val_root_mean_squared_error: 0.3489\n",
            "Epoch 37/100\n",
            "250/250 [==============================] - 1s 3ms/step - loss: 0.6707 - root_mean_squared_error: 0.3292 - val_loss: 0.7002 - val_root_mean_squared_error: 0.3492\n",
            "Epoch 38/100\n",
            "250/250 [==============================] - 1s 3ms/step - loss: 0.6704 - root_mean_squared_error: 0.3289 - val_loss: 0.7006 - val_root_mean_squared_error: 0.3494\n",
            "Epoch 39/100\n",
            "250/250 [==============================] - 1s 3ms/step - loss: 0.6691 - root_mean_squared_error: 0.3280 - val_loss: 0.7010 - val_root_mean_squared_error: 0.3497\n",
            "Epoch 40/100\n",
            "250/250 [==============================] - 1s 3ms/step - loss: 0.6696 - root_mean_squared_error: 0.3284 - val_loss: 0.7009 - val_root_mean_squared_error: 0.3496\n",
            "Epoch 41/100\n",
            "250/250 [==============================] - 1s 3ms/step - loss: 0.6687 - root_mean_squared_error: 0.3277 - val_loss: 0.7010 - val_root_mean_squared_error: 0.3497\n",
            "Epoch 42/100\n",
            "250/250 [==============================] - 1s 3ms/step - loss: 0.6690 - root_mean_squared_error: 0.3279 - val_loss: 0.7018 - val_root_mean_squared_error: 0.3502\n",
            "Epoch 43/100\n",
            "250/250 [==============================] - 1s 3ms/step - loss: 0.6687 - root_mean_squared_error: 0.3278 - val_loss: 0.7021 - val_root_mean_squared_error: 0.3505\n",
            "Epoch 44/100\n",
            "250/250 [==============================] - 1s 4ms/step - loss: 0.6683 - root_mean_squared_error: 0.3275 - val_loss: 0.7019 - val_root_mean_squared_error: 0.3503\n",
            "Epoch 45/100\n",
            "250/250 [==============================] - 1s 5ms/step - loss: 0.6689 - root_mean_squared_error: 0.3279 - val_loss: 0.7022 - val_root_mean_squared_error: 0.3505\n",
            "Epoch 46/100\n",
            "250/250 [==============================] - 1s 4ms/step - loss: 0.6685 - root_mean_squared_error: 0.3276 - val_loss: 0.7028 - val_root_mean_squared_error: 0.3509\n",
            "Epoch 47/100\n",
            "250/250 [==============================] - 1s 3ms/step - loss: 0.6679 - root_mean_squared_error: 0.3271 - val_loss: 0.7027 - val_root_mean_squared_error: 0.3508\n",
            "Epoch 48/100\n",
            "250/250 [==============================] - 1s 3ms/step - loss: 0.6681 - root_mean_squared_error: 0.3272 - val_loss: 0.7031 - val_root_mean_squared_error: 0.3511\n",
            "Epoch 49/100\n",
            "250/250 [==============================] - 1s 3ms/step - loss: 0.6681 - root_mean_squared_error: 0.3273 - val_loss: 0.7035 - val_root_mean_squared_error: 0.3514\n",
            "Epoch 50/100\n",
            "250/250 [==============================] - 1s 3ms/step - loss: 0.6674 - root_mean_squared_error: 0.3267 - val_loss: 0.7034 - val_root_mean_squared_error: 0.3513\n",
            "Epoch 51/100\n",
            "250/250 [==============================] - 1s 3ms/step - loss: 0.6672 - root_mean_squared_error: 0.3266 - val_loss: 0.7038 - val_root_mean_squared_error: 0.3515\n",
            "Epoch 52/100\n",
            "250/250 [==============================] - 1s 3ms/step - loss: 0.6676 - root_mean_squared_error: 0.3270 - val_loss: 0.7036 - val_root_mean_squared_error: 0.3514\n",
            "Epoch 53/100\n",
            "250/250 [==============================] - 1s 3ms/step - loss: 0.6674 - root_mean_squared_error: 0.3268 - val_loss: 0.7040 - val_root_mean_squared_error: 0.3517\n",
            "Epoch 54/100\n",
            "250/250 [==============================] - 1s 4ms/step - loss: 0.6665 - root_mean_squared_error: 0.3261 - val_loss: 0.7043 - val_root_mean_squared_error: 0.3519\n",
            "Epoch 55/100\n",
            "250/250 [==============================] - 2s 7ms/step - loss: 0.6665 - root_mean_squared_error: 0.3261 - val_loss: 0.7045 - val_root_mean_squared_error: 0.3520\n",
            "Epoch 56/100\n",
            "250/250 [==============================] - 1s 3ms/step - loss: 0.6673 - root_mean_squared_error: 0.3267 - val_loss: 0.7046 - val_root_mean_squared_error: 0.3521\n",
            "Epoch 57/100\n",
            "250/250 [==============================] - 1s 3ms/step - loss: 0.6671 - root_mean_squared_error: 0.3265 - val_loss: 0.7057 - val_root_mean_squared_error: 0.3528\n",
            "Epoch 58/100\n",
            "250/250 [==============================] - 1s 5ms/step - loss: 0.6659 - root_mean_squared_error: 0.3257 - val_loss: 0.7062 - val_root_mean_squared_error: 0.3531\n",
            "Epoch 59/100\n",
            "250/250 [==============================] - 1s 5ms/step - loss: 0.6659 - root_mean_squared_error: 0.3257 - val_loss: 0.7065 - val_root_mean_squared_error: 0.3533\n",
            "Epoch 60/100\n",
            "250/250 [==============================] - 1s 4ms/step - loss: 0.6662 - root_mean_squared_error: 0.3259 - val_loss: 0.7063 - val_root_mean_squared_error: 0.3532\n",
            "Epoch 61/100\n",
            "250/250 [==============================] - 1s 4ms/step - loss: 0.6650 - root_mean_squared_error: 0.3250 - val_loss: 0.7061 - val_root_mean_squared_error: 0.3530\n",
            "Epoch 62/100\n",
            "250/250 [==============================] - 1s 3ms/step - loss: 0.6649 - root_mean_squared_error: 0.3250 - val_loss: 0.7065 - val_root_mean_squared_error: 0.3533\n",
            "Epoch 63/100\n",
            "250/250 [==============================] - 1s 3ms/step - loss: 0.6671 - root_mean_squared_error: 0.3266 - val_loss: 0.7069 - val_root_mean_squared_error: 0.3536\n",
            "Epoch 64/100\n",
            "250/250 [==============================] - 1s 3ms/step - loss: 0.6650 - root_mean_squared_error: 0.3250 - val_loss: 0.7070 - val_root_mean_squared_error: 0.3536\n",
            "Epoch 65/100\n",
            "250/250 [==============================] - 1s 3ms/step - loss: 0.6660 - root_mean_squared_error: 0.3258 - val_loss: 0.7072 - val_root_mean_squared_error: 0.3537\n",
            "Epoch 66/100\n",
            "250/250 [==============================] - 1s 3ms/step - loss: 0.6646 - root_mean_squared_error: 0.3247 - val_loss: 0.7074 - val_root_mean_squared_error: 0.3539\n",
            "Epoch 67/100\n",
            "250/250 [==============================] - 1s 3ms/step - loss: 0.6645 - root_mean_squared_error: 0.3246 - val_loss: 0.7074 - val_root_mean_squared_error: 0.3539\n",
            "Epoch 68/100\n",
            "250/250 [==============================] - 1s 3ms/step - loss: 0.6646 - root_mean_squared_error: 0.3248 - val_loss: 0.7073 - val_root_mean_squared_error: 0.3538\n",
            "Epoch 69/100\n",
            "250/250 [==============================] - 1s 3ms/step - loss: 0.6653 - root_mean_squared_error: 0.3253 - val_loss: 0.7076 - val_root_mean_squared_error: 0.3540\n",
            "Epoch 70/100\n",
            "250/250 [==============================] - 1s 3ms/step - loss: 0.6645 - root_mean_squared_error: 0.3247 - val_loss: 0.7079 - val_root_mean_squared_error: 0.3542\n",
            "Epoch 71/100\n",
            "250/250 [==============================] - 1s 3ms/step - loss: 0.6647 - root_mean_squared_error: 0.3249 - val_loss: 0.7079 - val_root_mean_squared_error: 0.3542\n",
            "Epoch 72/100\n",
            "250/250 [==============================] - 1s 3ms/step - loss: 0.6643 - root_mean_squared_error: 0.3246 - val_loss: 0.7081 - val_root_mean_squared_error: 0.3543\n",
            "Epoch 73/100\n",
            "250/250 [==============================] - 1s 4ms/step - loss: 0.6641 - root_mean_squared_error: 0.3243 - val_loss: 0.7083 - val_root_mean_squared_error: 0.3545\n",
            "Epoch 74/100\n",
            "250/250 [==============================] - 1s 5ms/step - loss: 0.6638 - root_mean_squared_error: 0.3242 - val_loss: 0.7087 - val_root_mean_squared_error: 0.3547\n",
            "Epoch 75/100\n",
            "250/250 [==============================] - 1s 5ms/step - loss: 0.6647 - root_mean_squared_error: 0.3249 - val_loss: 0.7092 - val_root_mean_squared_error: 0.3550\n",
            "Epoch 76/100\n",
            "250/250 [==============================] - 1s 3ms/step - loss: 0.6642 - root_mean_squared_error: 0.3245 - val_loss: 0.7096 - val_root_mean_squared_error: 0.3553\n",
            "Epoch 77/100\n",
            "250/250 [==============================] - 1s 3ms/step - loss: 0.6647 - root_mean_squared_error: 0.3248 - val_loss: 0.7099 - val_root_mean_squared_error: 0.3555\n",
            "Epoch 78/100\n",
            "250/250 [==============================] - 1s 3ms/step - loss: 0.6642 - root_mean_squared_error: 0.3244 - val_loss: 0.7099 - val_root_mean_squared_error: 0.3555\n",
            "Epoch 79/100\n",
            "250/250 [==============================] - 1s 3ms/step - loss: 0.6635 - root_mean_squared_error: 0.3239 - val_loss: 0.7100 - val_root_mean_squared_error: 0.3555\n",
            "Epoch 80/100\n",
            "250/250 [==============================] - 1s 3ms/step - loss: 0.6636 - root_mean_squared_error: 0.3241 - val_loss: 0.7104 - val_root_mean_squared_error: 0.3558\n",
            "Epoch 81/100\n",
            "250/250 [==============================] - 1s 3ms/step - loss: 0.6640 - root_mean_squared_error: 0.3244 - val_loss: 0.7108 - val_root_mean_squared_error: 0.3560\n",
            "Epoch 82/100\n",
            "250/250 [==============================] - 1s 3ms/step - loss: 0.6625 - root_mean_squared_error: 0.3232 - val_loss: 0.7108 - val_root_mean_squared_error: 0.3560\n",
            "Epoch 83/100\n",
            "250/250 [==============================] - 1s 3ms/step - loss: 0.6643 - root_mean_squared_error: 0.3246 - val_loss: 0.7104 - val_root_mean_squared_error: 0.3557\n",
            "Epoch 84/100\n",
            "250/250 [==============================] - 1s 3ms/step - loss: 0.6636 - root_mean_squared_error: 0.3241 - val_loss: 0.7104 - val_root_mean_squared_error: 0.3557\n",
            "Epoch 85/100\n",
            "250/250 [==============================] - 1s 3ms/step - loss: 0.6633 - root_mean_squared_error: 0.3238 - val_loss: 0.7109 - val_root_mean_squared_error: 0.3560\n",
            "Epoch 86/100\n",
            "250/250 [==============================] - 1s 3ms/step - loss: 0.6631 - root_mean_squared_error: 0.3236 - val_loss: 0.7107 - val_root_mean_squared_error: 0.3559\n",
            "Epoch 87/100\n",
            "250/250 [==============================] - 1s 3ms/step - loss: 0.6627 - root_mean_squared_error: 0.3234 - val_loss: 0.7106 - val_root_mean_squared_error: 0.3559\n",
            "Epoch 88/100\n",
            "250/250 [==============================] - 1s 4ms/step - loss: 0.6631 - root_mean_squared_error: 0.3237 - val_loss: 0.7110 - val_root_mean_squared_error: 0.3561\n",
            "Epoch 89/100\n",
            "250/250 [==============================] - 1s 5ms/step - loss: 0.6637 - root_mean_squared_error: 0.3241 - val_loss: 0.7114 - val_root_mean_squared_error: 0.3564\n",
            "Epoch 90/100\n",
            "250/250 [==============================] - 1s 4ms/step - loss: 0.6629 - root_mean_squared_error: 0.3236 - val_loss: 0.7115 - val_root_mean_squared_error: 0.3564\n",
            "Epoch 91/100\n",
            "250/250 [==============================] - 1s 3ms/step - loss: 0.6624 - root_mean_squared_error: 0.3232 - val_loss: 0.7118 - val_root_mean_squared_error: 0.3566\n",
            "Epoch 92/100\n",
            "250/250 [==============================] - 1s 3ms/step - loss: 0.6634 - root_mean_squared_error: 0.3239 - val_loss: 0.7123 - val_root_mean_squared_error: 0.3570\n",
            "Epoch 93/100\n",
            "250/250 [==============================] - 1s 3ms/step - loss: 0.6638 - root_mean_squared_error: 0.3242 - val_loss: 0.7121 - val_root_mean_squared_error: 0.3568\n",
            "Epoch 94/100\n",
            "250/250 [==============================] - 1s 3ms/step - loss: 0.6641 - root_mean_squared_error: 0.3244 - val_loss: 0.7121 - val_root_mean_squared_error: 0.3568\n",
            "Epoch 95/100\n",
            "250/250 [==============================] - 1s 3ms/step - loss: 0.6625 - root_mean_squared_error: 0.3232 - val_loss: 0.7122 - val_root_mean_squared_error: 0.3569\n",
            "Epoch 96/100\n",
            "250/250 [==============================] - 1s 3ms/step - loss: 0.6641 - root_mean_squared_error: 0.3244 - val_loss: 0.7117 - val_root_mean_squared_error: 0.3566\n",
            "Epoch 97/100\n",
            "250/250 [==============================] - 1s 3ms/step - loss: 0.6646 - root_mean_squared_error: 0.3248 - val_loss: 0.7116 - val_root_mean_squared_error: 0.3565\n",
            "Epoch 98/100\n",
            "250/250 [==============================] - 1s 3ms/step - loss: 0.6635 - root_mean_squared_error: 0.3239 - val_loss: 0.7116 - val_root_mean_squared_error: 0.3565\n",
            "Epoch 99/100\n",
            "250/250 [==============================] - 1s 3ms/step - loss: 0.6634 - root_mean_squared_error: 0.3239 - val_loss: 0.7122 - val_root_mean_squared_error: 0.3569\n",
            "Epoch 100/100\n",
            "250/250 [==============================] - 1s 3ms/step - loss: 0.6633 - root_mean_squared_error: 0.3238 - val_loss: 0.7124 - val_root_mean_squared_error: 0.3570\n"
          ]
        }
      ],
      "source": [
        "# Memulai training\n",
        " \n",
        "history = model.fit(\n",
        "    x = x_train,\n",
        "    y = y_train,\n",
        "    epochs = 100,\n",
        "    validation_data = (x_val, y_val),\n",
        "    callbacks = [myCallback()]\n",
        ")"
      ]
    },
    {
      "cell_type": "code",
      "execution_count": null,
      "metadata": {
        "execution": {
          "iopub.execute_input": "2021-10-27T02:48:17.172649Z",
          "iopub.status.busy": "2021-10-27T02:48:17.172389Z",
          "iopub.status.idle": "2021-10-27T02:48:17.457773Z",
          "shell.execute_reply": "2021-10-27T02:48:17.456920Z",
          "shell.execute_reply.started": "2021-10-27T02:48:17.172618Z"
        },
        "id": "LSIBifava531",
        "outputId": "6a56ec03-39ce-4cb6-8c34-da05ac466c01",
        "trusted": true,
        "colab": {
          "base_uri": "https://localhost:8080/",
          "height": 480
        }
      },
      "outputs": [
        {
          "output_type": "display_data",
          "data": {
            "text/plain": [
              "<Figure size 640x480 with 1 Axes>"
            ],
            "image/png": "[encoded data removed]"
          },
          "metadata": {}
        }
      ],
      "source": [
        "# Menampilkan plot loss dan validation\n",
        "\n",
        "plt.plot(history.history['root_mean_squared_error'])\n",
        "plt.plot(history.history['val_root_mean_squared_error'])\n",
        "plt.title('model_metrics')\n",
        "plt.ylabel('root_mean_squared_error')\n",
        "plt.xlabel('epoch')\n",
        "plt.ylim(ymin=0, ymax=0.4)\n",
        "plt.legend(['train', 'test'], loc='center left')\n",
        "plt.show()"
      ]
    },
    {
      "cell_type": "markdown",
      "metadata": {
        "id": "slW4RqK5AvYD"
      },
      "source": [
        "## 7. Memprediksi Top 7 Rekomendasi"
      ]
    },
    {
      "cell_type": "markdown",
      "metadata": {
        "id": "JXYjisJCDYht"
      },
      "source": [
        "#### 7.1 Menyiapkan DataFrame untuk Menampilkan Hasil Rekomendasi"
      ]
    },
    {
      "cell_type": "code",
      "execution_count": null,
      "metadata": {
        "execution": {
          "iopub.execute_input": "2021-10-27T02:48:17.459478Z",
          "iopub.status.busy": "2021-10-27T02:48:17.459224Z",
          "iopub.status.idle": "2021-10-27T02:48:17.466194Z",
          "shell.execute_reply": "2021-10-27T02:48:17.465428Z",
          "shell.execute_reply.started": "2021-10-27T02:48:17.459448Z"
        },
        "id": "QVJb3B5HbeBR",
        "trusted": true
      },
      "outputs": [],
      "source": [
        "# Menyiapkan dataframe\n",
        "place_df = place[['Place_Id','Place_Name','Category','Rating','Price']]\n",
        "place_df.columns = ['id','place_name','category','rating','price']\n",
        "df = rating.copy()"
      ]
    },
    {
      "cell_type": "markdown",
      "metadata": {
        "id": "Ll1D8D8qDp0J"
      },
      "source": [
        "#### 7.2. Menyiapkan contoh User untuk Menampilkan Rekomendasi"
      ]
    },
    {
      "cell_type": "markdown",
      "metadata": {
        "id": "M10zuXK4EdLt"
      },
      "source": [
        "#### 7.2.1 Mencari User"
      ]
    },
    {
      "cell_type": "code",
      "execution_count": null,
      "metadata": {
        "execution": {
          "iopub.execute_input": "2021-10-27T02:48:17.467824Z",
          "iopub.status.busy": "2021-10-27T02:48:17.467605Z",
          "iopub.status.idle": "2021-10-27T02:48:17.479455Z",
          "shell.execute_reply": "2021-10-27T02:48:17.478385Z",
          "shell.execute_reply.started": "2021-10-27T02:48:17.467797Z"
        },
        "id": "Ixzzpaj6B4E-",
        "trusted": true
      },
      "outputs": [],
      "source": [
        "# Mengambil sample user\n",
        "user_id = df.User_Id.sample(1).iloc[0]\n",
        "place_visited_by_user = df[df.User_Id == user_id]"
      ]
    },
    {
      "cell_type": "markdown",
      "metadata": {
        "id": "XLHxGm9lElbP"
      },
      "source": [
        "#### 7.2.2. Mencari Lokasi yang belum Dikunjungi User"
      ]
    },
    {
      "cell_type": "code",
      "execution_count": null,
      "metadata": {
        "execution": {
          "iopub.execute_input": "2021-10-27T02:48:17.481038Z",
          "iopub.status.busy": "2021-10-27T02:48:17.480769Z",
          "iopub.status.idle": "2021-10-27T02:48:17.495192Z",
          "shell.execute_reply": "2021-10-27T02:48:17.494545Z",
          "shell.execute_reply.started": "2021-10-27T02:48:17.481001Z"
        },
        "id": "V4cGTjABBVVI",
        "trusted": true
      },
      "outputs": [],
      "source": [
        "# Membuat data lokasi yang belum dikunjungi user\n",
        "place_not_visited = place_df[~place_df['id'].isin(place_visited_by_user.Place_Id.values)]['id'] \n",
        "place_not_visited = list(\n",
        "    set(place_not_visited)\n",
        "    .intersection(set(place_to_place_encoded.keys()))\n",
        ")\n",
        " \n",
        "place_not_visited = [[place_to_place_encoded.get(x)] for x in place_not_visited]\n",
        "user_encoder = user_to_user_encoded.get(user_id)\n",
        "user_place_array = np.hstack(\n",
        "    ([[user_encoder]] * len(place_not_visited), place_not_visited)\n",
        ")"
      ]
    },
    {
      "cell_type": "markdown",
      "metadata": {
        "id": "RZXkdz27Euik"
      },
      "source": [
        "### 7.3. Menampilkan Hasil Rekomendasi untuk User"
      ]
    },
    {
      "cell_type": "code",
      "execution_count": null,
      "metadata": {
        "execution": {
          "iopub.execute_input": "2021-10-27T02:48:17.498700Z",
          "iopub.status.busy": "2021-10-27T02:48:17.498107Z",
          "iopub.status.idle": "2021-10-27T02:48:17.719402Z",
          "shell.execute_reply": "2021-10-27T02:48:17.717688Z",
          "shell.execute_reply.started": "2021-10-27T02:48:17.498653Z"
        },
        "id": "dVGN5F7JcAi8",
        "outputId": "12198d1f-426a-499f-e851-3484c39e5a8a",
        "trusted": true,
        "colab": {
          "base_uri": "https://localhost:8080/"
        }
      },
      "outputs": [
        {
          "output_type": "stream",
          "name": "stdout",
          "text": [
            "13/13 [==============================] - 0s 1ms/step\n",
            "Daftar rekomendasi untuk: User 97\n",
            "============================================= \n",
            "\n",
            "------------------------------------------------------------\n",
            "Tempat dengan rating wisata paling tinggi dari user\n",
            "------------------------------------------------------------\n",
            "Galeri Indonesia Kaya : Budaya\n",
            "Gedung Agung Yogyakarta : Budaya\n",
            "Curug Batu Templek : Cagar Alam\n",
            "Tirto Argo Siwarak : Taman Hiburan\n",
            "Gua Maria Kerep Ambarawa : Cagar Alam\n",
            "\n",
            "------------------------------------------------------------\n",
            "Top 7 place recommendation\n",
            "------------------------------------------------------------\n",
            "1 . Kampung Cina \n",
            "     Budaya , Harga Tiket Masuk  15000 , Rating Wisata  4.5 \n",
            "\n",
            "2 . Puncak Gunung Api Purba - Nglanggeran \n",
            "     Cagar Alam , Harga Tiket Masuk  10000 , Rating Wisata  4.7 \n",
            "\n",
            "3 . Pantai Baron \n",
            "     Bahari , Harga Tiket Masuk  10000 , Rating Wisata  4.4 \n",
            "\n",
            "4 . Pantai Ngrenehan \n",
            "     Bahari , Harga Tiket Masuk  3000 , Rating Wisata  4.4 \n",
            "\n",
            "5 . Teras Cikapundung BBWS \n",
            "     Taman Hiburan , Harga Tiket Masuk  0 , Rating Wisata  4.3 \n",
            "\n",
            "6 . Bukit Jamur \n",
            "     Cagar Alam , Harga Tiket Masuk  0 , Rating Wisata  4.2 \n",
            "\n",
            "7 . Keraton Surabaya \n",
            "     Budaya , Harga Tiket Masuk  0 , Rating Wisata  4.4 \n",
            "\n",
            "=============================================\n"
          ]
        }
      ],
      "source": [
        "# Mengambil top 7 recommendation\n",
        "ratings = model.predict(user_place_array).flatten()\n",
        "top_ratings_indices = ratings.argsort()[-7:][::-1]\n",
        "recommended_place_ids = [\n",
        "    place_encoded_to_place.get(place_not_visited[x][0]) for x in top_ratings_indices\n",
        "]\n",
        " \n",
        "print('Daftar rekomendasi untuk: {}'.format('User ' + str(user_id)))\n",
        "print('===' * 15,'\\n')\n",
        "print('----' * 15)\n",
        "print('Tempat dengan rating wisata paling tinggi dari user')\n",
        "print('----' * 15)\n",
        " \n",
        "top_place_user = (\n",
        "    place_visited_by_user.sort_values(\n",
        "        by = 'Place_Ratings',\n",
        "        ascending=False\n",
        "    )\n",
        "    .head(5)\n",
        "    .Place_Id.values\n",
        ")\n",
        " \n",
        "place_df_rows = place_df[place_df['id'].isin(top_place_user)]\n",
        "for row in place_df_rows.itertuples():\n",
        "    print(row.place_name, ':', row.category)\n",
        "\n",
        "print('')\n",
        "print('----' * 15)\n",
        "print('Top 7 place recommendation')\n",
        "print('----' * 15)\n",
        " \n",
        "recommended_place = place_df[place_df['id'].isin(recommended_place_ids)]\n",
        "for row, i in zip(recommended_place.itertuples(), range(1,8)):\n",
        "    print(i,'.', row.place_name, '\\n    ', row.category, ',', 'Harga Tiket Masuk ', row.price, ',', 'Rating Wisata ', row.rating,'\\n')\n",
        "\n",
        "print('==='*15)"
      ]
    }
  ],
  "metadata": {
    "kernelspec": {
      "display_name": "Python 3",
      "language": "python",
      "name": "python3"
    },
    "language_info": {
      "codemirror_mode": {
        "name": "ipython",
        "version": 3
      },
      "file_extension": ".py",
      "mimetype": "text/x-python",
      "name": "python",
      "nbconvert_exporter": "python",
      "pygments_lexer": "ipython3",
      "version": "3.11.0"
    },
    "colab": {
      "provenance": []
    }
  },
  "nbformat": 4,
  "nbformat_minor": 0
}